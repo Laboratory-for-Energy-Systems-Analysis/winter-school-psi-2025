{
 "cells": [
  {
   "cell_type": "markdown",
   "metadata": {},
   "source": [
    "<div>\n",
    "    <table>\n",
    "        <tr>\n",
    "            <td>\n",
    "                <center>\n",
    "                    <h1>Brightway (2.5) Introduction</h1>\n",
    "                     <a href=\"https://www.psi.ch/en/ta/people/romain-sacchi\">Romain Sacchi</a> (PSI)\n",
    "                    <br><br>\n",
    "                    Duration: 1 hour 30 minutes.\n",
    "                </center>\n",
    "            </td>\n",
    "        </tr>\n",
    "    </div>\n",
    "\n",
    "# Brightway I/O: bw2io\n",
    "\n",
    "<div class=\"alert alert-info\">\n",
    "Note: we will be using <a href=\"https://docs.brightway.dev/en/latest/content/installation/index.html\">Brightway 2.5</a>, not <a href=\"https://docs.brightway.dev/en/legacy/\">Brightway 2</a>. From the user end side, very little differ between the two. The code executed throughout this notebook works with both versions.\n",
    "</div>\n"
   ]
  },
  {
   "cell_type": "markdown",
   "metadata": {},
   "source": [
    "## Learning objectives  \n",
    "\n",
    "Learn how to:\n",
    "\n",
    "    - input LCI data to Brightway using Excel/CVS importers\n",
    "    - fix linking issue using migration files\n",
    "    - do a contribution analysis\n",
    "    - export your foreground inventories"
   ]
  },
  {
   "cell_type": "markdown",
   "metadata": {},
   "source": [
    "## Standard inputs and setup"
   ]
  },
  {
   "cell_type": "code",
   "execution_count": 1,
   "metadata": {},
   "outputs": [],
   "source": [
    "import os\n",
    "from pathlib import Path\n",
    "import pandas as pd\n",
    "import bw2io, bw2data, bw2calc"
   ]
  },
  {
   "cell_type": "markdown",
   "metadata": {},
   "source": [
    "Let's list our projects:"
   ]
  },
  {
   "cell_type": "code",
   "execution_count": 2,
   "metadata": {},
   "outputs": [
    {
     "data": {
      "text/plain": [
       "[Project: default,\n",
       " Project: new4,\n",
       " Project: ei39,\n",
       " Project: ei38,\n",
       " Project: simapro,\n",
       " Project: toronto,\n",
       " Project: ei310,\n",
       " Project: bw25,\n",
       " Project: coursePSI,\n",
       " Project: bw25_intro]"
      ]
     },
     "execution_count": 2,
     "metadata": {},
     "output_type": "execute_result"
    }
   ],
   "source": [
    "list(bw2data.projects)"
   ]
  },
  {
   "cell_type": "markdown",
   "metadata": {},
   "source": [
    "Setting the project"
   ]
  },
  {
   "cell_type": "code",
   "execution_count": 2,
   "metadata": {},
   "outputs": [],
   "source": "bw2data.projects.set_current(\"bw2\")"
  },
  {
   "cell_type": "markdown",
   "metadata": {},
   "source": [
    "## Context"
   ]
  },
  {
   "cell_type": "markdown",
   "metadata": {},
   "source": [
    "Performing an LCA generally requires:\n",
    "  - Background LCI data (e.g., an LCI database such as [ecoinvent](https://ecoinvent.org/))  \n",
    "  - Foreground LCI data (e.g., a bunch of datasets the LCA practitioner has spent time modeling)\n",
    "  - Sets of characterization factors.\n",
    " \n",
    "This section will deal with the way Foreground LCI data is input to Brightway."
   ]
  },
  {
   "cell_type": "markdown",
   "metadata": {},
   "source": [
    "Useful documentation about what a database in Brightway is can be found [here](https://github.com/brightway-lca/brightway2/blob/master/notebooks/Databases.ipynb)\n",
    " and [here](https://docs.brightway.dev/en/latest/content/gettingstarted/databases.html)."
   ]
  },
  {
   "cell_type": "markdown",
   "metadata": {},
   "source": [
    "# Importing from CSV or Excel"
   ]
  },
  {
   "cell_type": "markdown",
   "metadata": {},
   "source": [
    "Using `bw2io.ExcelImporter`, we import datasets from an Excel file."
   ]
  },
  {
   "cell_type": "code",
   "execution_count": 107,
   "metadata": {},
   "outputs": [
    {
     "name": "stdout",
     "output_type": "stream",
     "text": [
      "Extracted 1 worksheets in 0.03 seconds\n"
     ]
    }
   ],
   "source": [
    "imp = bw2io.ExcelImporter(Path(\".\") / \"files\" / \"lci-carbon-fiber.xlsx\")"
   ]
  },
  {
   "cell_type": "markdown",
   "metadata": {},
   "source": [
    "We want to apply a number of data cleaning functions (format numbers, set correct location, etc.),"
   ]
  },
  {
   "cell_type": "code",
   "execution_count": 108,
   "metadata": {},
   "outputs": [
    {
     "name": "stdout",
     "output_type": "stream",
     "text": [
      "Applying strategy: csv_restore_tuples\n",
      "Applying strategy: csv_restore_booleans\n",
      "Applying strategy: csv_numerize\n",
      "Applying strategy: csv_drop_unknown\n",
      "Applying strategy: csv_add_missing_exchanges_section\n",
      "Applying strategy: normalize_units\n",
      "Applying strategy: normalize_biosphere_categories\n",
      "Applying strategy: normalize_biosphere_names\n",
      "Applying strategy: strip_biosphere_exc_locations\n",
      "Applying strategy: set_code_by_activity_hash\n",
      "Applying strategy: link_iterable_by_fields\n",
      "Applying strategy: assign_only_product_as_production\n",
      "Applying strategy: link_technosphere_by_activity_hash\n",
      "Applying strategy: drop_falsey_uncertainty_fields_but_keep_zeros\n",
      "Applying strategy: convert_uncertainty_types_to_integers\n",
      "Applying strategy: convert_activity_parameters_to_list\n",
      "Applied 16 strategies in 5.00 seconds\n"
     ]
    }
   ],
   "source": [
    "imp.apply_strategies()"
   ]
  },
  {
   "cell_type": "markdown",
   "metadata": {},
   "source": [
    "Then, we want to use the `match_database()` method to link exchanges to suppliers."
   ]
  },
  {
   "cell_type": "markdown",
   "metadata": {},
   "source": [
    "First, we want to link exchange to suppliers that may also be contained in the data being imported."
   ]
  },
  {
   "cell_type": "code",
   "execution_count": 109,
   "metadata": {},
   "outputs": [
    {
     "name": "stdout",
     "output_type": "stream",
     "text": [
      "Applying strategy: link_iterable_by_fields\n"
     ]
    }
   ],
   "source": [
    "# we match based on the name, reference product and location\n",
    "imp.match_database(fields=('name', 'reference product', 'unit', 'location')) "
   ]
  },
  {
   "cell_type": "markdown",
   "metadata": {},
   "source": [
    "<div class=\"alert alert-info\">\n",
    "Note: Why is it important to link both based on <b>name</b> and <b>reference product</b>?\n",
    "</div>"
   ]
  },
  {
   "cell_type": "markdown",
   "metadata": {},
   "source": [
    "Is that enough? Do we still have unlinked exchanges? Let's check."
   ]
  },
  {
   "cell_type": "code",
   "execution_count": 110,
   "metadata": {},
   "outputs": [
    {
     "name": "stdout",
     "output_type": "stream",
     "text": [
      "10 datasets\n",
      "109 exchanges\n",
      "82 unlinked exchanges\n",
      "  Type biosphere: 1 unique unlinked exchanges\n",
      "  Type technosphere: 19 unique unlinked exchanges\n"
     ]
    },
    {
     "data": {
      "text/plain": [
       "(10, 109, 82)"
      ]
     },
     "execution_count": 110,
     "metadata": {},
     "output_type": "execute_result"
    }
   ],
   "source": [
    "imp.statistics()"
   ]
  },
  {
   "cell_type": "markdown",
   "metadata": {},
   "source": [
    "Let's check what those unlinked exchanges are:"
   ]
  },
  {
   "cell_type": "code",
   "execution_count": 111,
   "metadata": {},
   "outputs": [
    {
     "name": "stdout",
     "output_type": "stream",
     "text": [
      "market for heat, from steam, in chemical industry RER None\n",
      "market for acrylonitrile GLO None\n",
      "market group for electricity, low voltage RER None\n",
      "market for methyl acrylate GLO None\n",
      "market for acrylic acid RER None\n",
      "market for water, deionised Europe without Switzerland None\n",
      "market for compressed air, 1000 kPa gauge RER None\n",
      "market for dimethyl sulfoxide GLO None\n",
      "market for ethylene glycol GLO None\n",
      "air separation, cryogenic RER None\n",
      "market for steam, in chemical industry RER None\n",
      "treatment of wastewater, average, wastewater treatment CH None\n",
      "market for potassium permanganate GLO None\n",
      "market for silicone product RER None\n",
      "Argon-40 None ('air',)\n",
      "market for natural gas, medium pressure, vehicle grade GLO None\n",
      "market for NOx retained, by selective catalytic reduction GLO None\n",
      "market for tap water Europe without Switzerland None\n",
      "market for ammonium bicarbonate RER None\n",
      "market for epoxy resin, liquid RER None\n"
     ]
    }
   ],
   "source": [
    "for u in list(imp.unlinked):\n",
    "    print(u[\"name\"], u.get(\"location\"), u.get(\"categories\"))"
   ]
  },
  {
   "cell_type": "code",
   "execution_count": 112,
   "metadata": {},
   "outputs": [
    {
     "data": {
      "text/plain": [
       "Databases dictionary with 2 object(s):\n",
       "\tecoinvent-3.10-biosphere\n",
       "\tecoinvent-3.10-cutoff"
      ]
     },
     "execution_count": 112,
     "metadata": {},
     "output_type": "execute_result"
    }
   ],
   "source": [
    "bw2data.databases"
   ]
  },
  {
   "cell_type": "markdown",
   "metadata": {},
   "source": [
    "OK, some unlinked exchanges are clearly from ecoinvent. Let's try to link those."
   ]
  },
  {
   "cell_type": "code",
   "execution_count": 113,
   "metadata": {},
   "outputs": [
    {
     "name": "stdout",
     "output_type": "stream",
     "text": [
      "Applying strategy: link_iterable_by_fields\n",
      "10 datasets\n",
      "109 exchanges\n",
      "14 unlinked exchanges\n",
      "  Type biosphere: 1 unique unlinked exchanges\n",
      "  Type technosphere: 2 unique unlinked exchanges\n"
     ]
    },
    {
     "data": {
      "text/plain": [
       "(10, 109, 14)"
      ]
     },
     "execution_count": 113,
     "metadata": {},
     "output_type": "execute_result"
    }
   ],
   "source": [
    "imp.match_database(\"ecoinvent-3.10-cutoff\", fields=('name', 'reference product', 'unit', 'location'))\n",
    "imp.statistics()"
   ]
  },
  {
   "cell_type": "markdown",
   "metadata": {},
   "source": [
    "Depiste trying to link with ecoinvent, we still have two unmatched technosphere flows:"
   ]
  },
  {
   "cell_type": "code",
   "execution_count": 114,
   "metadata": {},
   "outputs": [
    {
     "data": {
      "text/plain": [
       "[{'name': 'market for ethylene glycol',\n",
       "  'amount': 2.4225526641883498e-06,\n",
       "  'database': 'ecoinvent',\n",
       "  'location': 'GLO',\n",
       "  'unit': 'kilogram',\n",
       "  'type': 'technosphere',\n",
       "  'reference product': 'ethylene glycol'},\n",
       " {'name': 'air separation, cryogenic',\n",
       "  'amount': 0.005396530359355638,\n",
       "  'database': 'ecoinvent',\n",
       "  'location': 'RER',\n",
       "  'unit': 'kilogram',\n",
       "  'type': 'technosphere',\n",
       "  'reference product': 'nitrogen, liquid'}]"
      ]
     },
     "execution_count": 114,
     "metadata": {},
     "output_type": "execute_result"
    }
   ],
   "source": [
    "[u for u in imp.unlinked if u[\"type\"] == \"technosphere\"]"
   ]
  },
  {
   "cell_type": "markdown",
   "metadata": {},
   "source": [
    "Also, we have an unlinked biosphere exchange left, let's try to match that one."
   ]
  },
  {
   "cell_type": "code",
   "execution_count": 115,
   "metadata": {},
   "outputs": [
    {
     "name": "stdout",
     "output_type": "stream",
     "text": [
      "Applying strategy: link_iterable_by_fields\n",
      "10 datasets\n",
      "109 exchanges\n",
      "14 unlinked exchanges\n",
      "  Type biosphere: 1 unique unlinked exchanges\n",
      "  Type technosphere: 2 unique unlinked exchanges\n"
     ]
    },
    {
     "data": {
      "text/plain": [
       "(10, 109, 14)"
      ]
     },
     "execution_count": 115,
     "metadata": {},
     "output_type": "execute_result"
    }
   ],
   "source": [
    "imp.match_database(\"ecoinvent-3.10-biosphere\", fields=('name', 'unit', 'categories'))\n",
    "imp.statistics()"
   ]
  },
  {
   "cell_type": "code",
   "execution_count": 123,
   "metadata": {},
   "outputs": [
    {
     "data": {
      "text/plain": [
       "[]"
      ]
     },
     "execution_count": 123,
     "metadata": {},
     "output_type": "execute_result"
    }
   ],
   "source": [
    "[u for u in imp.unlinked if u[\"type\"] == \"biosphere\"]"
   ]
  },
  {
   "cell_type": "markdown",
   "metadata": {},
   "source": [
    "Nope. Why not? Maybe because `Argon-40` does not not exist as such in `biosphere?`"
   ]
  },
  {
   "cell_type": "code",
   "execution_count": 116,
   "metadata": {},
   "outputs": [
    {
     "data": {
      "text/plain": [
       "['Argon' (kilogram, None, ('air',)),\n",
       " 'Argon-41' (kilo Becquerel, None, ('air', 'non-urban air or from high stacks')),\n",
       " 'Argon-41' (kilo Becquerel, None, ('air',)),\n",
       " 'Argon-41' (kilo Becquerel, None, ('air', 'urban air close to ground')),\n",
       " 'Argon-41' (kilo Becquerel, None, ('air', 'low population density, long-term')),\n",
       " 'Argon' (kilogram, None, ('natural resource', 'in air'))]"
      ]
     },
     "execution_count": 116,
     "metadata": {},
     "output_type": "execute_result"
    }
   ],
   "source": [
    "[f for f in bw2data.Database(\"ecoinvent-3.10-biosphere\") if \"argon\" in f[\"name\"].lower()]"
   ]
  },
  {
   "cell_type": "markdown",
   "metadata": {},
   "source": [
    "It is indeed now simply called `Argon` in ecoinvent 3.10.\n",
    "We can:\n",
    "1. manually fix this (i.e., modify the exchange name in the Excel file),\n",
    "2. go over `imp.data`(list), iterate through the exchanges and find `Argon-40` and replace it with `Argon`\n",
    "3. create a `migration` file for translating ecoinvent 3.9 flows to 3.10"
   ]
  },
  {
   "cell_type": "markdown",
   "metadata": {},
   "source": [
    "### Migration file"
   ]
  },
  {
   "cell_type": "markdown",
   "metadata": {},
   "source": [
    "We create a mapping dictionary, and use it to create a `Migration` object."
   ]
  },
  {
   "cell_type": "code",
   "execution_count": 117,
   "metadata": {},
   "outputs": [],
   "source": [
    "migration = {\n",
    "    \"fields\": [\"name\", \"reference product\", \"location\", \"categories\"],\n",
    "    \"data\": [\n",
    "        (\n",
    "            (\"market for ethylene glycol\", \"ethylene glycol\", \"GLO\", None),\n",
    "            {\"location\": \"RER\",},\n",
    "        ),\n",
    "        (\n",
    "            (\"air separation, cryogenic\", \"nitrogen, liquid\", \"GLO\", None),\n",
    "            {\n",
    "                \"name\": \"industrial gases production, cryogenic air separation\",\n",
    "                \"location\": \"RER\",\n",
    "            },\n",
    "        ),\n",
    "        (\n",
    "            (\"air separation, cryogenic\", \"nitrogen, liquid\", \"RER\", None),\n",
    "            {\n",
    "                \"name\": \"industrial gases production, cryogenic air separation\",\n",
    "                \"location\": \"RER\",\n",
    "            },\n",
    "        ),\n",
    "        (\n",
    "            (\"Argon-40\", None, None, (\"air\",)),\n",
    "            {\n",
    "                \"name\": \"Argon\",\n",
    "            },\n",
    "        )\n",
    "    ],\n",
    "}"
   ]
  },
  {
   "cell_type": "code",
   "execution_count": 118,
   "metadata": {},
   "outputs": [],
   "source": [
    "bw2io.Migration(name=\"ei3.9-3.10\").write(data=migration, description=\"ei 3.9 to 3.10\")"
   ]
  },
  {
   "cell_type": "code",
   "execution_count": 119,
   "metadata": {},
   "outputs": [
    {
     "data": {
      "text/plain": [
       "True"
      ]
     },
     "execution_count": 119,
     "metadata": {},
     "output_type": "execute_result"
    }
   ],
   "source": [
    "\"ei3.9-3.10\" in bw2io.migrations"
   ]
  },
  {
   "cell_type": "code",
   "execution_count": 120,
   "metadata": {},
   "outputs": [
    {
     "data": {
      "text/plain": [
       "Brightway2 Migration: ei3.9-3.10"
      ]
     },
     "execution_count": 120,
     "metadata": {},
     "output_type": "execute_result"
    }
   ],
   "source": [
    "bw2io.Migration(\"ei3.9-3.10\")"
   ]
  },
  {
   "cell_type": "markdown",
   "metadata": {},
   "source": [
    "We apply the migration on our imported data."
   ]
  },
  {
   "cell_type": "code",
   "execution_count": 121,
   "metadata": {},
   "outputs": [],
   "source": [
    "imp.data = bw2io.strategies.migrate_exchanges(\n",
    "    db=imp.data,\n",
    "    migration=\"ei3.9-3.10\"\n",
    ")"
   ]
  },
  {
   "cell_type": "code",
   "execution_count": 122,
   "metadata": {},
   "outputs": [
    {
     "name": "stdout",
     "output_type": "stream",
     "text": [
      "Applying strategy: link_iterable_by_fields\n",
      "Applying strategy: link_iterable_by_fields\n",
      "10 datasets\n",
      "109 exchanges\n",
      "0 unlinked exchanges\n",
      "  \n"
     ]
    },
    {
     "data": {
      "text/plain": [
       "(10, 109, 0)"
      ]
     },
     "execution_count": 122,
     "metadata": {},
     "output_type": "execute_result"
    }
   ],
   "source": [
    "imp.match_database(\"ecoinvent-3.10-cutoff\", fields=('name', 'reference product', 'unit', 'location'))\n",
    "imp.match_database(\"ecoinvent-3.10-biosphere\", fields=('name', 'unit', 'categories'))\n",
    "imp.statistics()"
   ]
  },
  {
   "cell_type": "markdown",
   "metadata": {},
   "source": [
    "We zero unlinked exchanges, we're ready to write the database."
   ]
  },
  {
   "cell_type": "code",
   "execution_count": 125,
   "metadata": {},
   "outputs": [
    {
     "name": "stdout",
     "output_type": "stream",
     "text": [
      "Not able to determine geocollections for all datasets. This database is not ready for regionalization.\n"
     ]
    },
    {
     "name": "stderr",
     "output_type": "stream",
     "text": [
      "100%|█████████████████████████████████████████████████████████████████████████████████████| 10/10 [00:00<00:00, 974.76it/s]"
     ]
    },
    {
     "name": "stdout",
     "output_type": "stream",
     "text": [
      "Vacuuming database \n"
     ]
    },
    {
     "name": "stderr",
     "output_type": "stream",
     "text": [
      "\n"
     ]
    },
    {
     "name": "stdout",
     "output_type": "stream",
     "text": [
      "Created database: carbon fiber\n"
     ]
    }
   ],
   "source": [
    "if len(list(imp.unlinked)) == 0:\n",
    "    imp.write_database()"
   ]
  },
  {
   "cell_type": "markdown",
   "metadata": {},
   "source": [
    "# Contribution analyses"
   ]
  },
  {
   "cell_type": "markdown",
   "metadata": {},
   "source": [
    "## Process contribution"
   ]
  },
  {
   "cell_type": "markdown",
   "metadata": {},
   "source": [
    "We have already seen how to obtain a contribution analysis in terms of contributing processes:"
   ]
  },
  {
   "cell_type": "code",
   "execution_count": 4,
   "metadata": {},
   "outputs": [],
   "source": [
    "db = bw2data.Database(\"carbon fiber\")"
   ]
  },
  {
   "cell_type": "code",
   "execution_count": 9,
   "metadata": {},
   "outputs": [
    {
     "data": {
      "text/plain": [
       "['carbon fiber production, fiber drying and sizing',\n",
       " 'carbon fiber production, fiber winding and unwinding',\n",
       " 'carbon fiber production, exhaust gas treatment 1',\n",
       " 'polyacrylonitrile production (PAN) by polymerisation',\n",
       " 'carbon fiber production, weaved, at factory',\n",
       " 'carbon fiber production, fiber coagulation, stretching, washing, sizing and drying',\n",
       " 'carbon fiber production, fiber stabilization, carbonization, electrolysis and washing',\n",
       " 'carbon fiber production, exhaust gas treatment 2',\n",
       " 'carbon fiber production, fiber relaxation',\n",
       " 'Dimethyl sulfoxide production (DMSO)']"
      ]
     },
     "execution_count": 9,
     "metadata": {},
     "output_type": "execute_result"
    }
   ],
   "source": [
    "# let's list the datasets in our new database \"carbon fiber\"\n",
    "[a[\"name\"] for a in db]"
   ]
  },
  {
   "cell_type": "code",
   "execution_count": 5,
   "metadata": {},
   "outputs": [
    {
     "data": {
      "text/plain": [
       "'carbon fiber production, weaved, at factory' (kilogram, RER, None)"
      ]
     },
     "execution_count": 5,
     "metadata": {},
     "output_type": "execute_result"
    }
   ],
   "source": [
    "activity = db.search('carbon fiber production, weaved, at factory')[0]\n",
    "activity"
   ]
  },
  {
   "cell_type": "code",
   "execution_count": 3,
   "metadata": {},
   "outputs": [],
   "source": [
    "method = ('IPCC 2021', 'climate change', 'global warming potential (GWP100)')"
   ]
  },
  {
   "cell_type": "code",
   "execution_count": 7,
   "metadata": {},
   "outputs": [
    {
     "name": "stderr",
     "output_type": "stream",
     "text": [
      "/opt/homebrew/Caskroom/miniforge/base/envs/bw25/lib/python3.11/site-packages/scikits/umfpack/umfpack.py:736: UmfpackWarning: (almost) singular matrix! (estimated cond. number: 1.21e+13)\n",
      "  warnings.warn(msg, UmfpackWarning)\n"
     ]
    },
    {
     "data": {
      "text/plain": [
       "75.11270245850397"
      ]
     },
     "execution_count": 7,
     "metadata": {},
     "output_type": "execute_result"
    }
   ],
   "source": [
    "lca = bw2calc.LCA({activity:1}, method)\n",
    "lca.lci()\n",
    "lca.lcia()\n",
    "lca.score"
   ]
  },
  {
   "cell_type": "code",
   "execution_count": 8,
   "metadata": {},
   "outputs": [],
   "source": [
    "rev_prod, rev_act, rev_bio = lca.reverse_dict()"
   ]
  },
  {
   "cell_type": "code",
   "execution_count": 9,
   "metadata": {},
   "outputs": [],
   "source": [
    "results_by_activity = (lca.characterized_inventory.sum(axis=0)).A1"
   ]
  },
  {
   "cell_type": "code",
   "execution_count": 10,
   "metadata": {},
   "outputs": [],
   "source": [
    "# Create a list of names in columns\n",
    "list_of_names_in_columns = [\n",
    "    bw2data.get_activity(rev_prod[col])['name'] \n",
    "    for col in range((lca.characterized_inventory.sum(axis=0)).shape[1])\n",
    "]"
   ]
  },
  {
   "cell_type": "code",
   "execution_count": 11,
   "metadata": {},
   "outputs": [
    {
     "data": {
      "text/plain": [
       "heat production, natural gas, at industrial furnace >100kW    8.068948\n",
       "carbon fiber production, exhaust gas treatment 2              7.448623\n",
       "natural gas venting from petroleum/natural gas production     4.314160\n",
       "heat production, at hard coal industrial furnace 1-10MW       2.413090\n",
       "ammonia production, partial oxidation, liquid                 2.203817\n",
       "ammonia production, steam reforming, liquid                   2.094031\n",
       "ammonia production, partial oxidation, liquid                 1.906205\n",
       "heat production, at hard coal industrial furnace 1-10MW       1.796146\n",
       "electricity production, lignite                               1.766702\n",
       "sweet gas, burned in gas turbine                              1.513273\n",
       "dtype: float64"
      ]
     },
     "execution_count": 11,
     "metadata": {},
     "output_type": "execute_result"
    }
   ],
   "source": [
    "pd.Series(index=list_of_names_in_columns, data=results_by_activity).sort_values(ascending=False).head(10)"
   ]
  },
  {
   "cell_type": "markdown",
   "metadata": {},
   "source": [
    "But there is a simpler and more \"official\" way to obtain this."
   ]
  },
  {
   "cell_type": "code",
   "execution_count": 12,
   "metadata": {},
   "outputs": [],
   "source": [
    "import bw2analyzer as ba"
   ]
  },
  {
   "cell_type": "code",
   "execution_count": 13,
   "metadata": {},
   "outputs": [
    {
     "data": {
      "text/html": [
       "<div>\n",
       "<style scoped>\n",
       "    .dataframe tbody tr th:only-of-type {\n",
       "        vertical-align: middle;\n",
       "    }\n",
       "\n",
       "    .dataframe tbody tr th {\n",
       "        vertical-align: top;\n",
       "    }\n",
       "\n",
       "    .dataframe thead th {\n",
       "        text-align: right;\n",
       "    }\n",
       "</style>\n",
       "<table border=\"1\" class=\"dataframe\">\n",
       "  <thead>\n",
       "    <tr style=\"text-align: right;\">\n",
       "      <th></th>\n",
       "      <th>score</th>\n",
       "      <th>quantity</th>\n",
       "      <th>name</th>\n",
       "    </tr>\n",
       "  </thead>\n",
       "  <tbody>\n",
       "    <tr>\n",
       "      <th>0</th>\n",
       "      <td>8.068948</td>\n",
       "      <td>136.671829</td>\n",
       "      <td>heat production, natural gas, at industrial fu...</td>\n",
       "    </tr>\n",
       "    <tr>\n",
       "      <th>1</th>\n",
       "      <td>7.448623</td>\n",
       "      <td>10.609957</td>\n",
       "      <td>carbon fiber production, exhaust gas treatment 2</td>\n",
       "    </tr>\n",
       "    <tr>\n",
       "      <th>2</th>\n",
       "      <td>4.314160</td>\n",
       "      <td>0.247272</td>\n",
       "      <td>natural gas venting from petroleum/natural gas...</td>\n",
       "    </tr>\n",
       "    <tr>\n",
       "      <th>3</th>\n",
       "      <td>2.413090</td>\n",
       "      <td>20.967055</td>\n",
       "      <td>heat production, at hard coal industrial furna...</td>\n",
       "    </tr>\n",
       "    <tr>\n",
       "      <th>4</th>\n",
       "      <td>2.203817</td>\n",
       "      <td>0.787078</td>\n",
       "      <td>ammonia production, partial oxidation, liquid</td>\n",
       "    </tr>\n",
       "    <tr>\n",
       "      <th>5</th>\n",
       "      <td>2.094031</td>\n",
       "      <td>1.461715</td>\n",
       "      <td>ammonia production, steam reforming, liquid</td>\n",
       "    </tr>\n",
       "    <tr>\n",
       "      <th>6</th>\n",
       "      <td>1.906205</td>\n",
       "      <td>0.680788</td>\n",
       "      <td>ammonia production, partial oxidation, liquid</td>\n",
       "    </tr>\n",
       "    <tr>\n",
       "      <th>7</th>\n",
       "      <td>1.796146</td>\n",
       "      <td>15.606498</td>\n",
       "      <td>heat production, at hard coal industrial furna...</td>\n",
       "    </tr>\n",
       "    <tr>\n",
       "      <th>8</th>\n",
       "      <td>1.766702</td>\n",
       "      <td>1.490596</td>\n",
       "      <td>electricity production, lignite</td>\n",
       "    </tr>\n",
       "    <tr>\n",
       "      <th>9</th>\n",
       "      <td>1.513273</td>\n",
       "      <td>22.596866</td>\n",
       "      <td>sweet gas, burned in gas turbine</td>\n",
       "    </tr>\n",
       "    <tr>\n",
       "      <th>10</th>\n",
       "      <td>1.366877</td>\n",
       "      <td>3.377400</td>\n",
       "      <td>hard coal mine operation and hard coal prepara...</td>\n",
       "    </tr>\n",
       "    <tr>\n",
       "      <th>11</th>\n",
       "      <td>1.294191</td>\n",
       "      <td>23.008621</td>\n",
       "      <td>refinery gas, burned in furnace</td>\n",
       "    </tr>\n",
       "    <tr>\n",
       "      <th>12</th>\n",
       "      <td>1.267310</td>\n",
       "      <td>15.180654</td>\n",
       "      <td>heat production, heavy fuel oil, at industrial...</td>\n",
       "    </tr>\n",
       "    <tr>\n",
       "      <th>13</th>\n",
       "      <td>1.264186</td>\n",
       "      <td>1.742939</td>\n",
       "      <td>unsaturated hydrocarbons production, steam cra...</td>\n",
       "    </tr>\n",
       "    <tr>\n",
       "      <th>14</th>\n",
       "      <td>1.203398</td>\n",
       "      <td>15.408709</td>\n",
       "      <td>heat production, light fuel oil, at industrial...</td>\n",
       "    </tr>\n",
       "    <tr>\n",
       "      <th>15</th>\n",
       "      <td>1.186170</td>\n",
       "      <td>1.189407</td>\n",
       "      <td>heat and power co-generation, hard coal</td>\n",
       "    </tr>\n",
       "    <tr>\n",
       "      <th>16</th>\n",
       "      <td>1.139409</td>\n",
       "      <td>9.900190</td>\n",
       "      <td>heat production, at coal coke industrial furna...</td>\n",
       "    </tr>\n",
       "    <tr>\n",
       "      <th>17</th>\n",
       "      <td>1.138209</td>\n",
       "      <td>2.416513</td>\n",
       "      <td>acrylonitrile production, Sohio process</td>\n",
       "    </tr>\n",
       "    <tr>\n",
       "      <th>18</th>\n",
       "      <td>1.006158</td>\n",
       "      <td>0.467980</td>\n",
       "      <td>methanol production, coal gasification</td>\n",
       "    </tr>\n",
       "    <tr>\n",
       "      <th>19</th>\n",
       "      <td>0.984554</td>\n",
       "      <td>16.819174</td>\n",
       "      <td>heat production, natural gas, at boiler modula...</td>\n",
       "    </tr>\n",
       "    <tr>\n",
       "      <th>20</th>\n",
       "      <td>0.791112</td>\n",
       "      <td>11.616921</td>\n",
       "      <td>treatment of waste natural gas, sweet, burned ...</td>\n",
       "    </tr>\n",
       "    <tr>\n",
       "      <th>21</th>\n",
       "      <td>0.785120</td>\n",
       "      <td>1.642346</td>\n",
       "      <td>electricity production, natural gas, conventio...</td>\n",
       "    </tr>\n",
       "    <tr>\n",
       "      <th>22</th>\n",
       "      <td>0.784172</td>\n",
       "      <td>0.654244</td>\n",
       "      <td>electricity production, hard coal</td>\n",
       "    </tr>\n",
       "    <tr>\n",
       "      <th>23</th>\n",
       "      <td>0.721789</td>\n",
       "      <td>0.644087</td>\n",
       "      <td>heat and power co-generation, lignite</td>\n",
       "    </tr>\n",
       "    <tr>\n",
       "      <th>24</th>\n",
       "      <td>0.561523</td>\n",
       "      <td>0.429032</td>\n",
       "      <td>electricity production, lignite</td>\n",
       "    </tr>\n",
       "  </tbody>\n",
       "</table>\n",
       "</div>"
      ],
      "text/plain": [
       "       score    quantity                                               name\n",
       "0   8.068948  136.671829  heat production, natural gas, at industrial fu...\n",
       "1   7.448623   10.609957   carbon fiber production, exhaust gas treatment 2\n",
       "2   4.314160    0.247272  natural gas venting from petroleum/natural gas...\n",
       "3   2.413090   20.967055  heat production, at hard coal industrial furna...\n",
       "4   2.203817    0.787078      ammonia production, partial oxidation, liquid\n",
       "5   2.094031    1.461715        ammonia production, steam reforming, liquid\n",
       "6   1.906205    0.680788      ammonia production, partial oxidation, liquid\n",
       "7   1.796146   15.606498  heat production, at hard coal industrial furna...\n",
       "8   1.766702    1.490596                    electricity production, lignite\n",
       "9   1.513273   22.596866                   sweet gas, burned in gas turbine\n",
       "10  1.366877    3.377400  hard coal mine operation and hard coal prepara...\n",
       "11  1.294191   23.008621                    refinery gas, burned in furnace\n",
       "12  1.267310   15.180654  heat production, heavy fuel oil, at industrial...\n",
       "13  1.264186    1.742939  unsaturated hydrocarbons production, steam cra...\n",
       "14  1.203398   15.408709  heat production, light fuel oil, at industrial...\n",
       "15  1.186170    1.189407            heat and power co-generation, hard coal\n",
       "16  1.139409    9.900190  heat production, at coal coke industrial furna...\n",
       "17  1.138209    2.416513            acrylonitrile production, Sohio process\n",
       "18  1.006158    0.467980             methanol production, coal gasification\n",
       "19  0.984554   16.819174  heat production, natural gas, at boiler modula...\n",
       "20  0.791112   11.616921  treatment of waste natural gas, sweet, burned ...\n",
       "21  0.785120    1.642346  electricity production, natural gas, conventio...\n",
       "22  0.784172    0.654244                  electricity production, hard coal\n",
       "23  0.721789    0.644087              heat and power co-generation, lignite\n",
       "24  0.561523    0.429032                    electricity production, lignite"
      ]
     },
     "execution_count": 13,
     "metadata": {},
     "output_type": "execute_result"
    }
   ],
   "source": [
    "pd.DataFrame(\n",
    "    [(x, y, z[\"name\"]) for x, y, z in ba.ContributionAnalysis().annotated_top_processes(lca=lca)],\n",
    "    columns=[\"score\", \"quantity\", \"name\"]\n",
    ")"
   ]
  },
  {
   "cell_type": "markdown",
   "metadata": {},
   "source": [
    "Same approach for elementary flows:"
   ]
  },
  {
   "cell_type": "code",
   "execution_count": 14,
   "metadata": {},
   "outputs": [
    {
     "data": {
      "text/html": [
       "<div>\n",
       "<style scoped>\n",
       "    .dataframe tbody tr th:only-of-type {\n",
       "        vertical-align: middle;\n",
       "    }\n",
       "\n",
       "    .dataframe tbody tr th {\n",
       "        vertical-align: top;\n",
       "    }\n",
       "\n",
       "    .dataframe thead th {\n",
       "        text-align: right;\n",
       "    }\n",
       "</style>\n",
       "<table border=\"1\" class=\"dataframe\">\n",
       "  <thead>\n",
       "    <tr style=\"text-align: right;\">\n",
       "      <th></th>\n",
       "      <th>score</th>\n",
       "      <th>quantity</th>\n",
       "      <th>name</th>\n",
       "    </tr>\n",
       "  </thead>\n",
       "  <tbody>\n",
       "    <tr>\n",
       "      <th>0</th>\n",
       "      <td>31.524717</td>\n",
       "      <td>3.152472e+01</td>\n",
       "      <td>Carbon dioxide, fossil</td>\n",
       "    </tr>\n",
       "    <tr>\n",
       "      <th>1</th>\n",
       "      <td>22.449426</td>\n",
       "      <td>2.244943e+01</td>\n",
       "      <td>Carbon dioxide, fossil</td>\n",
       "    </tr>\n",
       "    <tr>\n",
       "      <th>2</th>\n",
       "      <td>13.097015</td>\n",
       "      <td>1.309701e+01</td>\n",
       "      <td>Carbon dioxide, fossil</td>\n",
       "    </tr>\n",
       "    <tr>\n",
       "      <th>3</th>\n",
       "      <td>7.310870</td>\n",
       "      <td>2.453312e-01</td>\n",
       "      <td>Methane, fossil</td>\n",
       "    </tr>\n",
       "    <tr>\n",
       "      <th>4</th>\n",
       "      <td>0.171000</td>\n",
       "      <td>6.785712e-06</td>\n",
       "      <td>Sulfur hexafluoride</td>\n",
       "    </tr>\n",
       "    <tr>\n",
       "      <th>5</th>\n",
       "      <td>0.123087</td>\n",
       "      <td>4.508681e-04</td>\n",
       "      <td>Dinitrogen monoxide</td>\n",
       "    </tr>\n",
       "    <tr>\n",
       "      <th>6</th>\n",
       "      <td>0.106040</td>\n",
       "      <td>3.884237e-04</td>\n",
       "      <td>Dinitrogen monoxide</td>\n",
       "    </tr>\n",
       "    <tr>\n",
       "      <th>7</th>\n",
       "      <td>0.093928</td>\n",
       "      <td>3.440585e-04</td>\n",
       "      <td>Dinitrogen monoxide</td>\n",
       "    </tr>\n",
       "    <tr>\n",
       "      <th>8</th>\n",
       "      <td>0.070810</td>\n",
       "      <td>2.376177e-03</td>\n",
       "      <td>Methane, fossil</td>\n",
       "    </tr>\n",
       "    <tr>\n",
       "      <th>9</th>\n",
       "      <td>0.062798</td>\n",
       "      <td>6.279813e-02</td>\n",
       "      <td>Carbon dioxide, from soil or biomass stock</td>\n",
       "    </tr>\n",
       "    <tr>\n",
       "      <th>10</th>\n",
       "      <td>0.050221</td>\n",
       "      <td>1.860025e-03</td>\n",
       "      <td>Methane, non-fossil</td>\n",
       "    </tr>\n",
       "    <tr>\n",
       "      <th>11</th>\n",
       "      <td>0.019247</td>\n",
       "      <td>1.318263e-06</td>\n",
       "      <td>Trifluoromethane</td>\n",
       "    </tr>\n",
       "    <tr>\n",
       "      <th>12</th>\n",
       "      <td>0.011119</td>\n",
       "      <td>1.506625e-06</td>\n",
       "      <td>Tetrafluoromethane</td>\n",
       "    </tr>\n",
       "    <tr>\n",
       "      <th>13</th>\n",
       "      <td>0.006546</td>\n",
       "      <td>2.196547e-04</td>\n",
       "      <td>Methane, fossil</td>\n",
       "    </tr>\n",
       "    <tr>\n",
       "      <th>14</th>\n",
       "      <td>0.003213</td>\n",
       "      <td>2.100226e-06</td>\n",
       "      <td>1,1,1,2-Tetrafluoroethane</td>\n",
       "    </tr>\n",
       "    <tr>\n",
       "      <th>15</th>\n",
       "      <td>0.003041</td>\n",
       "      <td>2.452673e-07</td>\n",
       "      <td>Hexafluoroethane</td>\n",
       "    </tr>\n",
       "    <tr>\n",
       "      <th>16</th>\n",
       "      <td>0.001797</td>\n",
       "      <td>2.434880e-07</td>\n",
       "      <td>Tetrafluoromethane</td>\n",
       "    </tr>\n",
       "    <tr>\n",
       "      <th>17</th>\n",
       "      <td>0.001441</td>\n",
       "      <td>5.337030e-05</td>\n",
       "      <td>Methane, non-fossil</td>\n",
       "    </tr>\n",
       "    <tr>\n",
       "      <th>18</th>\n",
       "      <td>0.001187</td>\n",
       "      <td>2.716489e-03</td>\n",
       "      <td>Ethane</td>\n",
       "    </tr>\n",
       "    <tr>\n",
       "      <th>19</th>\n",
       "      <td>0.001068</td>\n",
       "      <td>8.610604e-08</td>\n",
       "      <td>Hexafluoroethane</td>\n",
       "    </tr>\n",
       "    <tr>\n",
       "      <th>20</th>\n",
       "      <td>0.000734</td>\n",
       "      <td>2.720208e-05</td>\n",
       "      <td>Methane, non-fossil</td>\n",
       "    </tr>\n",
       "    <tr>\n",
       "      <th>21</th>\n",
       "      <td>0.000595</td>\n",
       "      <td>5.949210e-04</td>\n",
       "      <td>Carbon dioxide, from soil or biomass stock</td>\n",
       "    </tr>\n",
       "    <tr>\n",
       "      <th>22</th>\n",
       "      <td>0.000572</td>\n",
       "      <td>3.489231e-06</td>\n",
       "      <td>1,1-Difluoroethane</td>\n",
       "    </tr>\n",
       "    <tr>\n",
       "      <th>23</th>\n",
       "      <td>0.000554</td>\n",
       "      <td>7.690651e-08</td>\n",
       "      <td>Methane, bromotrifluoro-, Halon 1301</td>\n",
       "    </tr>\n",
       "    <tr>\n",
       "      <th>24</th>\n",
       "      <td>0.000419</td>\n",
       "      <td>3.355875e-08</td>\n",
       "      <td>Dichlorodifluoromethane</td>\n",
       "    </tr>\n",
       "  </tbody>\n",
       "</table>\n",
       "</div>"
      ],
      "text/plain": [
       "        score      quantity                                        name\n",
       "0   31.524717  3.152472e+01                      Carbon dioxide, fossil\n",
       "1   22.449426  2.244943e+01                      Carbon dioxide, fossil\n",
       "2   13.097015  1.309701e+01                      Carbon dioxide, fossil\n",
       "3    7.310870  2.453312e-01                             Methane, fossil\n",
       "4    0.171000  6.785712e-06                         Sulfur hexafluoride\n",
       "5    0.123087  4.508681e-04                         Dinitrogen monoxide\n",
       "6    0.106040  3.884237e-04                         Dinitrogen monoxide\n",
       "7    0.093928  3.440585e-04                         Dinitrogen monoxide\n",
       "8    0.070810  2.376177e-03                             Methane, fossil\n",
       "9    0.062798  6.279813e-02  Carbon dioxide, from soil or biomass stock\n",
       "10   0.050221  1.860025e-03                         Methane, non-fossil\n",
       "11   0.019247  1.318263e-06                            Trifluoromethane\n",
       "12   0.011119  1.506625e-06                          Tetrafluoromethane\n",
       "13   0.006546  2.196547e-04                             Methane, fossil\n",
       "14   0.003213  2.100226e-06                   1,1,1,2-Tetrafluoroethane\n",
       "15   0.003041  2.452673e-07                            Hexafluoroethane\n",
       "16   0.001797  2.434880e-07                          Tetrafluoromethane\n",
       "17   0.001441  5.337030e-05                         Methane, non-fossil\n",
       "18   0.001187  2.716489e-03                                      Ethane\n",
       "19   0.001068  8.610604e-08                            Hexafluoroethane\n",
       "20   0.000734  2.720208e-05                         Methane, non-fossil\n",
       "21   0.000595  5.949210e-04  Carbon dioxide, from soil or biomass stock\n",
       "22   0.000572  3.489231e-06                          1,1-Difluoroethane\n",
       "23   0.000554  7.690651e-08        Methane, bromotrifluoro-, Halon 1301\n",
       "24   0.000419  3.355875e-08                     Dichlorodifluoromethane"
      ]
     },
     "execution_count": 14,
     "metadata": {},
     "output_type": "execute_result"
    }
   ],
   "source": [
    "pd.DataFrame(\n",
    "    [(x, y, z[\"name\"]) for x, y, z in ba.ContributionAnalysis().annotated_top_emissions(lca=lca)],\n",
    "    columns=[\"score\", \"quantity\", \"name\"]\n",
    ")"
   ]
  },
  {
   "cell_type": "markdown",
   "metadata": {},
   "source": [
    "## Tree map"
   ]
  },
  {
   "cell_type": "code",
   "execution_count": 1,
   "metadata": {},
   "outputs": [],
   "source": [
    "from polyviz import treemap"
   ]
  },
  {
   "cell_type": "code",
   "execution_count": 7,
   "metadata": {},
   "outputs": [
    {
     "name": "stdout",
     "output_type": "stream",
     "text": [
      "Calculating LCIA score...\n"
     ]
    },
    {
     "name": "stderr",
     "output_type": "stream",
     "text": [
      "/opt/homebrew/Caskroom/miniforge/base/envs/bw25/lib/python3.11/site-packages/scikits/umfpack/umfpack.py:736: UmfpackWarning: (almost) singular matrix! (estimated cond. number: 1.21e+13)\n",
      "  warnings.warn(msg, UmfpackWarning)\n"
     ]
    },
    {
     "data": {
      "text/plain": [
       "'/Users/romain/GitHub/autumn-school-dds-psi-2024/tutorials/brightway/carbon fiber production weaved at factory kilogram RER IPCC 2021climate changeglobal warming potential GWP100 treemap.html'"
      ]
     },
     "execution_count": 7,
     "metadata": {},
     "output_type": "execute_result"
    }
   ],
   "source": [
    "treemap(\n",
    "    activity=activity,\n",
    "    method=method\n",
    ")"
   ]
  },
  {
   "cell_type": "markdown",
   "metadata": {},
   "source": [
    "## Supply chain traversal"
   ]
  },
  {
   "cell_type": "code",
   "execution_count": 9,
   "metadata": {},
   "outputs": [],
   "source": [
    "from polyviz import sankey"
   ]
  },
  {
   "cell_type": "markdown",
   "metadata": {},
   "source": [
    "Github repo: [link](https://github.com/romainsacchi/polyviz). No proper documentation yet, but a notebook with [examples](https://github.com/romainsacchi/polyviz/blob/main/examples/examples.ipynb)."
   ]
  },
  {
   "cell_type": "code",
   "execution_count": 13,
   "metadata": {},
   "outputs": [
    {
     "name": "stdout",
     "output_type": "stream",
     "text": [
      "Calculating supply chain score...\n"
     ]
    },
    {
     "name": "stderr",
     "output_type": "stream",
     "text": [
      "/opt/homebrew/Caskroom/miniforge/base/envs/bw25/lib/python3.11/site-packages/scikits/umfpack/umfpack.py:736: UmfpackWarning: (almost) singular matrix! (estimated cond. number: 1.21e+13)\n",
      "  warnings.warn(msg, UmfpackWarning)\n"
     ]
    }
   ],
   "source": [
    "_, df = sankey(\n",
    "    activity=activity,\n",
    "    level=4,\n",
    "    cutoff=0.01,\n",
    "    method=method,\n",
    "    labels_swap={\n",
    "        \"carbon fiber\": \"cf.\",\n",
    "        \"production\": \"prod.\"\n",
    "    }\n",
    ")"
   ]
  },
  {
   "cell_type": "markdown",
   "metadata": {},
   "source": [
    "## Violin plot"
   ]
  },
  {
   "cell_type": "code",
   "execution_count": 6,
   "metadata": {},
   "outputs": [],
   "source": [
    "from polyviz import violin\n",
    "import warnings\n",
    "warnings.filterwarnings(\"ignore\")"
   ]
  },
  {
   "cell_type": "code",
   "execution_count": 7,
   "metadata": {},
   "outputs": [
    {
     "name": "stderr",
     "output_type": "stream",
     "text": [
      "[clustimage] >WARNING> Colormap [inferno] can not create [300] unique colors! Available unique colors: [256].\n"
     ]
    },
    {
     "data": {
      "text/plain": [
       "'/Users/romain/GitHub/autumn-school-dds-psi-2024/tutorials/brightway/market for GLO vs transport GLO vs market for RoW IPCC 2021climate changeglobal warming potential GWP100 violin.html'"
      ]
     },
     "execution_count": 7,
     "metadata": {},
     "output_type": "execute_result"
    }
   ],
   "source": [
    "method = ('IPCC 2021', 'climate change', 'global warming potential (GWP100)')\n",
    "violin(\n",
    "    activities=[\n",
    "        a for a in bw2data.Database(\"ecoinvent-3.10-cutoff\") \n",
    "        if a[\"unit\"] == \"ton kilometer\"\n",
    "    ][:3],\n",
    "    method=method,\n",
    "    iterations=100\n",
    ")"
   ]
  },
  {
   "cell_type": "markdown",
   "metadata": {},
   "source": [
    "# Exporting databases"
   ]
  },
  {
   "cell_type": "markdown",
   "metadata": {},
   "source": [
    "## To Excel"
   ]
  },
  {
   "cell_type": "markdown",
   "metadata": {},
   "source": [
    "We can export the entire database inventory to an Excel file."
   ]
  },
  {
   "cell_type": "code",
   "execution_count": 221,
   "metadata": {},
   "outputs": [
    {
     "data": {
      "text/plain": [
       "'./lci-carbon-fiber.xlsx'"
      ]
     },
     "execution_count": 221,
     "metadata": {},
     "output_type": "execute_result"
    }
   ],
   "source": [
    "bw2io.export.write_lci_excel(\n",
    "    database_name=\"carbon fiber\",\n",
    "    dirpath=\".\",\n",
    ")"
   ]
  },
  {
   "cell_type": "markdown",
   "metadata": {},
   "source": [
    "## As a bw2package file"
   ]
  },
  {
   "cell_type": "markdown",
   "metadata": {},
   "source": [
    "We can also export the database as a Brightway package file."
   ]
  },
  {
   "cell_type": "code",
   "execution_count": 235,
   "metadata": {},
   "outputs": [
    {
     "data": {
      "text/plain": [
       "'/Users/romain/Library/Application Support/Brightway3/bw25.a3a6b830/export/carbon-fiber54c41419.efe1809b.bw2package'"
      ]
     },
     "execution_count": 235,
     "metadata": {},
     "output_type": "execute_result"
    }
   ],
   "source": [
    "bw2io.package.BW2Package().export_obj(\n",
    "    obj=db,\n",
    ")"
   ]
  },
  {
   "cell_type": "markdown",
   "metadata": {},
   "source": [
    "<div class=\"alert alert-info\">\n",
    "Note: It may not be ideal for sharing, because for the import to be successful, the other user will need the databases the exported database depends on (ecoinvent, biosphere) to be named exactly the same. It is still possible, though, but the user you share the package with, will have to correct this upon import.\n",
    "</div>"
   ]
  },
  {
   "cell_type": "markdown",
   "metadata": {},
   "source": [
    "## As a project"
   ]
  },
  {
   "cell_type": "markdown",
   "metadata": {},
   "source": [
    "We can export the entire project. This is the safest option, as all the database `carbon fiber` depends on are also exported. The drawback is that the file is bigger, and there may be licensing issues. But it is at least a good backup solution."
   ]
  },
  {
   "cell_type": "code",
   "execution_count": 236,
   "metadata": {},
   "outputs": [
    {
     "data": {
      "text/plain": [
       "'bw25'"
      ]
     },
     "execution_count": 236,
     "metadata": {},
     "output_type": "execute_result"
    }
   ],
   "source": [
    "bw2data.projects.current"
   ]
  },
  {
   "cell_type": "code",
   "execution_count": 238,
   "metadata": {},
   "outputs": [
    {
     "name": "stdout",
     "output_type": "stream",
     "text": [
      "Creating project backup archive - this could take a few minutes...\n",
      "Saved to: brightway2-project-bw25-backup08-July-2024-07-26PM.tar.gz\n"
     ]
    },
    {
     "data": {
      "text/plain": [
       "PosixPath('brightway2-project-bw25-backup08-July-2024-07-26PM.tar.gz')"
      ]
     },
     "execution_count": 238,
     "metadata": {},
     "output_type": "execute_result"
    }
   ],
   "source": [
    "bw2io.backup.backup_project_directory(\n",
    "    project='bw2',\n",
    "    dir_backup='.' # here\n",
    ")"
   ]
  },
  {
   "cell_type": "markdown",
   "metadata": {},
   "source": [
    "And we load it back up... Note that I give it another name to not overwrite it.\n",
    "Also, overwrite is `False` by default, so it would need ot be set to `True` first."
   ]
  },
  {
   "cell_type": "code",
   "execution_count": 242,
   "metadata": {},
   "outputs": [
    {
     "name": "stdout",
     "output_type": "stream",
     "text": [
      "Restoring project backup archive - this could take a few minutes...\n",
      "Restored project: carbon fiber 2\n"
     ]
    },
    {
     "data": {
      "text/plain": [
       "'carbon fiber 2'"
      ]
     },
     "execution_count": 242,
     "metadata": {},
     "output_type": "execute_result"
    }
   ],
   "source": [
    "bw2io.backup.restore_project_directory(\n",
    "    fp=\"brightway2-project-bw2-backup.tar.gz\",\n",
    "    project_name=\"carbon fiber 2\",\n",
    "    overwrite_existing=False\n",
    ")"
   ]
  },
  {
   "cell_type": "markdown",
   "metadata": {},
   "source": [
    "Let's check"
   ]
  },
  {
   "cell_type": "code",
   "execution_count": 243,
   "metadata": {},
   "outputs": [
    {
     "data": {
      "text/plain": [
       "True"
      ]
     },
     "execution_count": 243,
     "metadata": {},
     "output_type": "execute_result"
    }
   ],
   "source": [
    "\"carbon fiber 2\" in bw2data.projects"
   ]
  },
  {
   "cell_type": "code",
   "execution_count": null,
   "metadata": {},
   "outputs": [],
   "source": []
  }
 ],
 "metadata": {
  "kernelspec": {
   "display_name": "Python 3 (ipykernel)",
   "language": "python",
   "name": "python3"
  },
  "language_info": {
   "codemirror_mode": {
    "name": "ipython",
    "version": 3
   },
   "file_extension": ".py",
   "mimetype": "text/x-python",
   "name": "python",
   "nbconvert_exporter": "python",
   "pygments_lexer": "ipython3",
   "version": "3.11.8"
  },
  "toc": {
   "colors": {
    "hover_highlight": "#DAA520",
    "running_highlight": "#FF0000",
    "selected_highlight": "#FFD700"
   },
   "moveMenuLeft": true,
   "nav_menu": {
    "height": "208px",
    "width": "252px"
   },
   "navigate_menu": true,
   "number_sections": true,
   "sideBar": true,
   "threshold": 4,
   "toc_cell": false,
   "toc_section_display": "block",
   "toc_window_display": false,
   "widenNotebook": false
  }
 },
 "nbformat": 4,
 "nbformat_minor": 4
}
