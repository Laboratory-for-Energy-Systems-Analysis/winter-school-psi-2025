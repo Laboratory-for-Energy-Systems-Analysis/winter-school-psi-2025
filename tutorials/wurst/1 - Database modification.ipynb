{
 "cells": [
  {
   "cell_type": "markdown",
   "id": "3451dd88",
   "metadata": {},
   "source": [
    "<div>\n",
    "    <table>\n",
    "        <tr>\n",
    "            <td>\n",
    "                <center>\n",
    "                    <h1>Wurst Introduction</h1>\n",
    "                     <a href=\"https://www.psi.ch/en/ta/people/romain-sacchi\">Romain Sacchi</a> (PSI)\n",
    "                    <br><br>\n",
    "                    Duration: 1 hour 15 minutes.\n",
    "                </center>\n",
    "            </td>\n",
    "        </tr>\n",
    "    </div>\n",
    "\n",
    "Github repository: [https://github.com/polca/wurst](https://github.com/polca/wurst)\n",
    "\n",
    "Documentation: [https://wurst.readthedocs.io/](https://wurst.readthedocs.io/)\n",
    "\n",
    "Wurst authors: Chris Mutel, Brian Cox\n",
    "\n",
    "<div class=\"alert alert-info\">\n",
    "Note: we will be using <a href=\"https://docs.brightway.dev/en/latest/content/installation/index.html\">Brightway 2.5</a>, not <a href=\"https://docs.brightway.dev/en/legacy/\">Brightway 2</a>. From the user end side, very little differ between the two. The code executed throughout this notebook works with both versions.\n",
    "</div>\n"
   ]
  },
  {
   "cell_type": "markdown",
   "id": "5e1b5708-7ae8-4959-bb8c-99e459934ee6",
   "metadata": {},
   "source": [
    "### Scenario: Prospective Assessment of Future Solar PV Technologies\n",
    "\n",
    "#### Background:\n",
    "The European energy agency is keen on understanding the potential future of solar PV technology. \n",
    "With advances in research, there are predictions of enhanced module efficiency, changes in supply chains, \n",
    "and extended lifetimes for PV modules in the next decade.\n",
    "\n",
    "#### Objective:\n",
    "To modify the ecoinvent data to reflect these anticipated changes and evaluate the prospective environmental \n",
    "benefits or potential concerns of these future solar PV technologies."
   ]
  },
  {
   "cell_type": "markdown",
   "id": "275d199a",
   "metadata": {},
   "source": [
    "### 1. Introduction:"
   ]
  },
  {
   "cell_type": "markdown",
   "id": "b69c6b40",
   "metadata": {},
   "source": [
    "`wurst` is a Python library tailored for performing operations Life Cycle Assessment (LCA) data, especially the [ecoinvent](https://ecoinvent.org/) database. It provides tools to search, filter, modify, and link LCA datasets. It is a core library of [`premise`](https://github.com/polca/premise) and is very practical for performing database-wide modifications."
   ]
  },
  {
   "cell_type": "markdown",
   "id": "3fef1684-04a9-4f55-9363-b92fb5f2a7a5",
   "metadata": {},
   "source": [
    "### Data Exploration:\n",
    "\n",
    "1. Load the ecoinvent database.\n",
    "2. Extract all processes related to European solar PV."
   ]
  },
  {
   "cell_type": "markdown",
   "id": "ca24f424",
   "metadata": {},
   "source": [
    "### 2. Import:"
   ]
  },
  {
   "cell_type": "code",
   "execution_count": null,
   "id": "f28948db-e55c-4da3-b9b0-fa51add5403a",
   "metadata": {
    "tags": []
   },
   "outputs": [],
   "source": [
    "import wurst\n",
    "import wurst.searching as ws\n",
    "import bw2io, bw2data\n",
    "import matplotlib.pyplot as plt\n",
    "import seaborn as sns"
   ]
  },
  {
   "cell_type": "markdown",
   "id": "155488c4-8659-49c6-9e2e-efc233542a20",
   "metadata": {},
   "source": [
    "#### 2.1 activate a project with ecoinvent"
   ]
  },
  {
   "cell_type": "markdown",
   "id": "d7e6edb3-ed3e-4888-98d0-a7c6877a1167",
   "metadata": {},
   "source": "We can re-use our `bw2` project."
  },
  {
   "cell_type": "code",
   "execution_count": null,
   "id": "954f0595-3514-46c4-9342-fc0d991549f0",
   "metadata": {},
   "outputs": [],
   "source": [
    "bw2data.projects"
   ]
  },
  {
   "cell_type": "code",
   "execution_count": null,
   "id": "51044d66-ce33-4d8b-bf55-f8bceb72a220",
   "metadata": {},
   "outputs": [],
   "source": "bw2data.projects.set_current(\"bw2\")"
  },
  {
   "cell_type": "markdown",
   "id": "a90b83d3-80d7-48e4-ac54-c9d7d60d32a6",
   "metadata": {},
   "source": [
    "#### 2.2 list databases"
   ]
  },
  {
   "cell_type": "code",
   "execution_count": null,
   "id": "5e868c55-4a3d-445f-b0a7-45b88a471dc8",
   "metadata": {
    "tags": []
   },
   "outputs": [],
   "source": [
    "bw2data.databases"
   ]
  },
  {
   "cell_type": "markdown",
   "id": "17124253",
   "metadata": {},
   "source": [
    "### 3. Extracting Data:"
   ]
  },
  {
   "cell_type": "code",
   "execution_count": null,
   "id": "d062bc8e",
   "metadata": {
    "tags": []
   },
   "outputs": [],
   "source": [
    "database = wurst.extract_brightway2_databases(\"ecoinvent-3.10-cutoff\")"
   ]
  },
  {
   "cell_type": "code",
   "execution_count": null,
   "id": "8af50cdf-04ce-4b42-a457-98efc7224220",
   "metadata": {},
   "outputs": [],
   "source": [
    "len(database)"
   ]
  },
  {
   "cell_type": "code",
   "execution_count": null,
   "id": "e6249e6e-244c-4e64-8627-37204a131876",
   "metadata": {},
   "outputs": [],
   "source": [
    "type(database)"
   ]
  },
  {
   "cell_type": "markdown",
   "id": "eaf67653-e8b8-4153-8669-5c551aea4073",
   "metadata": {},
   "source": [
    "Import additional inventories"
   ]
  },
  {
   "cell_type": "markdown",
   "id": "5e0f6851-f57d-4983-8ec3-6c320d1d541a",
   "metadata": {},
   "source": [
    "#### 3.1 Pickle database\n",
    "Doing so allows us to load directly the database without going through extraction again."
   ]
  },
  {
   "cell_type": "code",
   "execution_count": null,
   "id": "18cfed51-a86b-46c5-bffe-315521fea094",
   "metadata": {
    "tags": []
   },
   "outputs": [],
   "source": [
    "import pickle\n",
    "\n",
    "with open(r\"ei310.pickle\", \"wb\") as output_file:\n",
    "    pickle.dump(database, output_file)"
   ]
  },
  {
   "cell_type": "markdown",
   "id": "d01fb01a-ded6-4db8-8219-de2e47d28d60",
   "metadata": {},
   "source": [
    "#### 3.2 Load database\n",
    "Create a function that will unpickle our database, to avoid extracting it from the brightway project."
   ]
  },
  {
   "cell_type": "code",
   "execution_count": null,
   "id": "d00bc09d-9034-461f-b3e2-ebc435b99980",
   "metadata": {
    "tags": []
   },
   "outputs": [],
   "source": [
    "import pickle\n",
    "\n",
    "def load_db():\n",
    "    with open(r\"ei310.pickle\", \"rb\") as input_file:\n",
    "        db = pickle.load(input_file)\n",
    "\n",
    "    for ds in db:\n",
    "        if \"categories\" in ds:\n",
    "            del ds[\"categories\"]\n",
    "            \n",
    "    return db"
   ]
  },
  {
   "cell_type": "code",
   "execution_count": null,
   "id": "bbdbff97-1311-410d-88ef-2c29d2632a34",
   "metadata": {
    "tags": []
   },
   "outputs": [],
   "source": [
    "db = load_db()"
   ]
  },
  {
   "cell_type": "code",
   "execution_count": null,
   "id": "c5ab02ea-2ef0-4f98-8b6d-37e369fc547e",
   "metadata": {
    "tags": []
   },
   "outputs": [],
   "source": [
    "len(db)"
   ]
  },
  {
   "cell_type": "code",
   "execution_count": null,
   "id": "ccab7c50-f1f7-4fbc-a41e-feee3fc30d43",
   "metadata": {
    "tags": []
   },
   "outputs": [],
   "source": [
    "# we can delete `database` to free up memory\n",
    "del database"
   ]
  },
  {
   "cell_type": "markdown",
   "id": "98cac1c8",
   "metadata": {},
   "source": [
    "### 4. Searching for Processes:"
   ]
  },
  {
   "cell_type": "markdown",
   "id": "050207de-f0c3-4f3c-af93-293b2a70d1a6",
   "metadata": {},
   "source": [
    "Let's search for European solar panels in ecoinvent.\n",
    "\n",
    "Here, we deomnstrate wurst's searching capabilities, with:\n",
    "\n",
    "* `get_one()`: return many datasets that meet the search criteria\n",
    "* `get_many()`: return only one dataset that meet the search criteria"
   ]
  },
  {
   "cell_type": "code",
   "execution_count": null,
   "id": "9926ea7f-148a-487e-8196-5916f25e539c",
   "metadata": {
    "tags": []
   },
   "outputs": [],
   "source": [
    "import wurst.searching as ws"
   ]
  },
  {
   "cell_type": "code",
   "execution_count": null,
   "id": "1acfeaf8",
   "metadata": {
    "tags": []
   },
   "outputs": [],
   "source": [
    "solar_pv = ws.get_many(db, \n",
    "    ws.contains(\"name\", \"photovoltaic\")\n",
    ")\n",
    "\n",
    "for ds in solar_pv:\n",
    "    print(ds[\"name\"])"
   ]
  },
  {
   "cell_type": "markdown",
   "id": "41f03dd4-24f7-447a-a566-01d04a2ff963",
   "metadata": {},
   "source": [
    "Let's remove markets, with the help of the `ws.exclude()` filter."
   ]
  },
  {
   "cell_type": "code",
   "execution_count": null,
   "id": "078650b0-d7b6-41c4-9fa9-e7c94499fe3e",
   "metadata": {
    "tags": []
   },
   "outputs": [],
   "source": [
    "solar_pv = ws.get_many(db, \n",
    "    ws.contains(\"name\", \"photovoltaic\"),\n",
    "    ws.exclude(\n",
    "        ws.contains(\"name\", \"market for\"),\n",
    "    )\n",
    ")\n",
    "\n",
    "for ds in solar_pv:\n",
    "    print(ds[\"name\"])"
   ]
  },
  {
   "cell_type": "markdown",
   "id": "698cc4ad-481c-4c47-87de-c474b42984d7",
   "metadata": {},
   "source": [
    "Let's also remove electricity producing datasets"
   ]
  },
  {
   "cell_type": "code",
   "execution_count": null,
   "id": "4efc94f9-e6ac-4f05-b0c3-6f6f3d2e82b0",
   "metadata": {
    "tags": []
   },
   "outputs": [],
   "source": [
    "pv_filter = [\n",
    "    ws.contains(\"name\", \"photovoltaic\"),\n",
    "    ws.either(\n",
    "        ws.contains(\"name\", \"installation\"),\n",
    "        ws.contains(\"name\", \"construction\"),\n",
    "    ),\n",
    "    ws.exclude(ws.contains(\"name\", \"market for\"),),\n",
    "    ws.exclude(ws.contains(\"name\", \"electricity\")),\n",
    "    ws.exclude(ws.contains(\"name\", \"factory\")),\n",
    "    ws.exclude(ws.contains(\"name\", \"module\")),\n",
    "    ws.equals(\"unit\", \"unit\"),\n",
    "    \n",
    "]\n",
    "solar_pv = ws.get_many(\n",
    "    db, \n",
    "    *pv_filter\n",
    ")\n",
    "\n",
    "for ds in solar_pv:\n",
    "    print(ds[\"name\"], ds[\"location\"])"
   ]
  },
  {
   "cell_type": "markdown",
   "id": "21ab8097",
   "metadata": {},
   "source": [
    "### 5. Filtering Data:\n",
    "List only European datasets.\n",
    "\n",
    "Here, we combine `wurst`'s search capabilities with other libraries, such as `constructive_geometries`."
   ]
  },
  {
   "cell_type": "code",
   "execution_count": null,
   "id": "3bf2a361",
   "metadata": {
    "tags": []
   },
   "outputs": [],
   "source": [
    "from constructive_geometries import geomatcher"
   ]
  },
  {
   "cell_type": "code",
   "execution_count": null,
   "id": "1433e05d-98cf-4e3b-93a7-ccd4643233c3",
   "metadata": {
    "tags": []
   },
   "outputs": [],
   "source": [
    "geo = geomatcher.Geomatcher()"
   ]
  },
  {
   "cell_type": "code",
   "execution_count": null,
   "id": "cbbe3c53-455c-424c-bb1c-1e44fe4758af",
   "metadata": {
    "tags": []
   },
   "outputs": [],
   "source": [
    "european_countries = geo.contained(\"RER\")"
   ]
  },
  {
   "cell_type": "code",
   "execution_count": null,
   "id": "a3d0803c-ec46-4683-9157-cf2745f70ba7",
   "metadata": {},
   "outputs": [],
   "source": [
    "european_countries"
   ]
  },
  {
   "cell_type": "code",
   "execution_count": null,
   "id": "65dfdc7d-4a8b-4c11-b009-698cbb730e95",
   "metadata": {
    "tags": []
   },
   "outputs": [],
   "source": [
    "pv_filter.append(\n",
    "    ws.either(*[\n",
    "        ws.equals(\"location\", loc) for loc in european_countries\n",
    "    ])\n",
    ")"
   ]
  },
  {
   "cell_type": "code",
   "execution_count": null,
   "id": "b8c0c2fd-5016-4ef5-8635-15adb449d335",
   "metadata": {},
   "outputs": [],
   "source": [
    "for ds in ws.get_many(\n",
    "    db,\n",
    "    *pv_filter\n",
    "):\n",
    "    print(ds[\"name\"], ds[\"location\"])"
   ]
  },
  {
   "cell_type": "markdown",
   "id": "e12912c5-2e81-4b84-a492-0219563eab02",
   "metadata": {},
   "source": [
    "### Modify Module Efficiency:\n",
    "\n",
    "Increase the efficiency of solar PV modules by a certain amount based on future predictions.\n",
    "We can do so by reducing the area of panels needed per kilowatt-peak installation.\n",
    "\n",
    "Here are some efficiency projections we can use:\n",
    "\t\t\t\t\t\t\t\n",
    "| Synthesis           |           |      |          |           |          |      |      |      |\n",
    "|---------------------|-----------|------|----------|-----------|----------|------|------|------|\n",
    "| % module efficiency | ribbon-Si | a-Si | micro-Si | single-Si | multi-Si | CIGS | CIS  | CdTe |\n",
    "| 2005                |           |      |          |           |          |      |      |      |\n",
    "| 2010                | 9         | 9.5  | 10       | 15.1      | 14       | 11   | 11   | 10   |\n",
    "| 2020                | 12        | 12.5 | 11.9     | 17.9      | 16.8     | 14   | 14   | 16.8 |\n",
    "| 2050                | 13.5      | 14.2 | 12.5     | 26.7      | 24.4     | 23.4 | 23.4 | 21   |4\t21\n"
   ]
  },
  {
   "cell_type": "code",
   "execution_count": null,
   "id": "6de794d6-f46c-4917-b83a-4ae6c071f1f7",
   "metadata": {
    "tags": []
   },
   "outputs": [],
   "source": [
    "import xarray as xr\n",
    "# let's store this as a dict\n",
    "# Creating the dictionary from the provided data\n",
    "\n",
    "efficiency_data = {\n",
    "    \"ribbon-Si\": {\n",
    "        2010: 9,\n",
    "        2020: 12,\n",
    "        2050: 13.5\n",
    "    },\n",
    "    \"a-Si\": {\n",
    "        2010: 9.5,\n",
    "        2020: 12.5,\n",
    "        2050: 14.2\n",
    "    },\n",
    "    \"micro-Si\": {\n",
    "        2010: 10,\n",
    "        2020: 11.9,\n",
    "        2050: 12.5\n",
    "    },\n",
    "    \"single-Si\": {\n",
    "        2010: 15.1,\n",
    "        2020: 17.9,\n",
    "        2050: 26.7\n",
    "    },\n",
    "    \"multi-Si\": {\n",
    "        2010: 14,\n",
    "        2020: 16.8,\n",
    "        2050: 24.4\n",
    "    },\n",
    "    \"CIGS\": {\n",
    "        2010: 11,\n",
    "        2020: 14,\n",
    "        2050: 23.4\n",
    "    },\n",
    "    \"CIS\": {\n",
    "        2010: 11,\n",
    "        2020: 14,\n",
    "        2050: 23.4\n",
    "    },\n",
    "    \"CdTe\": {\n",
    "        2010: 10,\n",
    "        2020: 16.8,\n",
    "        2050: 21\n",
    "    }\n",
    "}\n",
    "\n",
    "# Adjusting the structure of the dictionary to fit into a DataArray\n",
    "data_values = []\n",
    "technologies = list(efficiency_data.keys())\n",
    "years = sorted(list(efficiency_data[technologies[0]].keys()))\n",
    "\n",
    "for technology in technologies:\n",
    "    data_values.append([efficiency_data[technology][year] for year in years])\n",
    "\n",
    "# Creating the xarray DataArray\n",
    "efficiency_da = xr.DataArray(\n",
    "    data_values,\n",
    "    coords=[technologies, years],\n",
    "    dims=[\"technology\", \"year\"]\n",
    ")\n"
   ]
  },
  {
   "cell_type": "markdown",
   "id": "72a1c547",
   "metadata": {},
   "source": [
    "### 6. Transforming Datasets:\n",
    "\n",
    "#### Module efficiency\n",
    "We want to look into the solar PV installation datasets and:\n",
    "1. Identify the installed power\n",
    "2. Identify the current efficiency\n",
    "3. Identifiy the technology\n",
    "4. Fetch the new efficiency\n",
    "5. Modify the inputs accodingly"
   ]
  },
  {
   "cell_type": "code",
   "execution_count": null,
   "id": "2b3b2616",
   "metadata": {
    "tags": []
   },
   "outputs": [],
   "source": [
    "import re\n",
    "import numpy as np\n",
    "from prettytable import PrettyTable\n",
    "\n",
    "def fetch_pv_power(name):\n",
    "    # we use regular expression to extract the power from the dataset name (in kW)\n",
    "    power = float(re.findall(r\"[-+]?\\d*\\.\\d+|\\d+\", name)[0])\n",
    "    \n",
    "    # if in MW, convert to kW\n",
    "    if \"mwp\" in name.lower():\n",
    "        power *= 1000\n",
    "\n",
    "    return power\n",
    "\n",
    "def modify_module_efficiency(db, year):\n",
    "\n",
    "    modifications = []\n",
    "    \n",
    "    for dataset in ws.get_many(\n",
    "        db,\n",
    "        *pv_filter\n",
    "    ):\n",
    "    \n",
    "        power = fetch_pv_power(dataset[\"name\"])\n",
    "    \n",
    "        # we look for an input of PV panel, in square meters\n",
    "        for exc in ws.technosphere(\n",
    "            dataset,\n",
    "            *[\n",
    "                ws.either(\n",
    "                    ws.contains(\"name\", \"photovoltaic panel\"),\n",
    "                    ws.contains(\"name\", \"photovoltaic laminate\"),\n",
    "                ),\n",
    "                ws.equals(\"unit\", \"square meter\"),\n",
    "            ],\n",
    "        ):\n",
    "            surface = float(exc[\"amount\"])\n",
    "            max_power = surface  # in kW, since we assume a constant 1,000W/m^2\n",
    "            current_eff = power / max_power\n",
    "    \n",
    "            possible_techs = [\n",
    "                \"ribbon-Si\",\n",
    "                \"a-Si\",\n",
    "                \"micro-Si\",\n",
    "                \"single-Si\",\n",
    "                \"multi-Si\",\n",
    "                \"CIGS\",\n",
    "                \"CIS\",\n",
    "                \"CdTe\",\n",
    "            ]\n",
    "            \n",
    "            pv_tech = [\n",
    "                i for i in possible_techs if i.lower() in exc[\"name\"].lower()\n",
    "            ]\n",
    "    \n",
    "            if len(pv_tech) > 0:\n",
    "                pv_tech = pv_tech[0]\n",
    "    \n",
    "                new_eff = efficiency_da.sel(technology=pv_tech).interp(year=year).values/100\n",
    "    \n",
    "                # in case self.year <2010 or >2050\n",
    "                new_eff = np.clip(new_eff, 0.1, 0.27)\n",
    "                \n",
    "                modifications.append(\n",
    "                    [dataset[\"name\"][-60:], power, pv_tech, round(current_eff, 2), round(new_eff, 2), round(float(current_eff / new_eff), 2)]\n",
    "                )\n",
    "                exc[\"amount\"] *= float(current_eff / new_eff)\n",
    "    \n",
    "    table = PrettyTable([\"Name\", \"Power\", \"Tech\", \"Current eff\", \"New eff\", \"Scaling factor\"])\n",
    "    table.add_rows(modifications)\n",
    "    print(table)\n",
    "\n",
    "    return db"
   ]
  },
  {
   "cell_type": "markdown",
   "id": "ff69df80-f1ef-443c-a53e-ebc0475a3960",
   "metadata": {},
   "source": [
    "### Extend Module Lifetime:\n",
    "\n",
    "Increase the operational lifetime of the solar PV modules from the typical 25 years to, say, 30 years in 2035 and 40 years in 2050.\n",
    "This modification will affect the input requirements per kilowatt hour produced."
   ]
  },
  {
   "cell_type": "code",
   "execution_count": null,
   "id": "b53bb001-8ae9-4b2d-8b1c-084fc326edd0",
   "metadata": {
    "tags": []
   },
   "outputs": [],
   "source": [
    "def modify_pv_lifetime(db, current_lifetime, new_lifetime):\n",
    "\n",
    "    modifications = []\n",
    "    \n",
    "    # search where our PV panels are used:\n",
    "    for ds in ws.get_many(\n",
    "        db,\n",
    "        ws.contains(\"name\", \"electricity\"),\n",
    "        ws.equals(\"unit\", \"kilowatt hour\"),\n",
    "        ws.exclude(ws.contains(\"name\", \"renewable\"))\n",
    "    ):\n",
    "        for exc in ws.technosphere(\n",
    "            ds,\n",
    "            *pv_filter\n",
    "        ):\n",
    "            power = fetch_pv_power(exc[\"name\"])\n",
    "    \n",
    "            panel_fraction = exc[\"amount\"]\n",
    "            lifetime_production = 1/exc[\"amount\"]\n",
    "            annual_production = 1/exc[\"amount\"]/current_lifetime\n",
    "            annual_prod_per_kW = annual_production / power\n",
    "\n",
    "            exc[\"amount\"] *= current_lifetime/new_lifetime\n",
    "    \n",
    "            modifications.append(\n",
    "                [\n",
    "                    ds[\"name\"][-60:],\n",
    "                    ds[\"location\"],\n",
    "                    int(lifetime_production),\n",
    "                    int(annual_production),\n",
    "                    int(annual_prod_per_kW),\n",
    "                    '{:.2E}'.format(exc[\"amount\"]),\n",
    "                    '{:.2E}'.format(exc[\"amount\"] * current_lifetime/new_lifetime)\n",
    "                ]\n",
    "            )\n",
    "    \n",
    "    table = PrettyTable([\"Name\", \"Loc\", \"kWh/lifetime\", \"kWh/year\", \"kWh/year/kW\", \"Old input\", \"New input\"])\n",
    "    table.add_rows(modifications)\n",
    "    print(table)\n",
    "\n",
    "    return db"
   ]
  },
  {
   "cell_type": "markdown",
   "id": "c531e9cd-de3e-4e44-b17f-9d26599c8fc4",
   "metadata": {},
   "source": [
    "### Decarbonize the production of aluminium\n",
    "\n",
    "PV panel installations require substantial amounts of aliminium for the panel frame itself, but also, and mostly, for the mounting system.\n",
    "\n",
    "The production of alumiminium in certain regions still relies to a significant extent on fossil-based electricity (see *market for electricity, high voltage, aluminium industry*). The European Environmental Agency foresees that, while natural gas-based electricity will still be used by aluminum smelters, coal will slowly be phased out: by half by 2035, and completely by 2050.\n",
    "\n",
    "The European Environmental Agency also thinks that natural gas-fired power plants will be 5% and 10% more efficient by 2035 and 2050, relative to today. "
   ]
  },
  {
   "cell_type": "code",
   "execution_count": null,
   "id": "c379e3a2-477f-464a-a48f-d6802876b14d",
   "metadata": {
    "tags": []
   },
   "outputs": [],
   "source": [
    "def modify_al_electricity_mix(db, scaling_factor_coal, scaling_factor_coal_ng):\n",
    "\n",
    "    ############### Aluminium electricity mix #################\n",
    "    modifications = []\n",
    "\n",
    "    for ds in ws.get_many(\n",
    "            db,\n",
    "            ws.contains(\"name\", \"market for electricity, high voltage, aluminium industry\"),\n",
    "            ws.equals(\"unit\", \"kilowatt hour\"),\n",
    "        ):\n",
    "\n",
    "        shares, surplus = {}, 0\n",
    "\n",
    "        for exc in ws.technosphere(\n",
    "            ds,\n",
    "            ws.contains(\"name\", \"electricity production\"),\n",
    "            ws.contains(\"unit\", \"kilowatt hour\")\n",
    "        ):\n",
    "            shares[exc[\"name\"]] = {\"old\": exc[\"amount\"]}\n",
    "\n",
    "        \n",
    "        for tech, share in shares.items():\n",
    "            if \"coal\" in tech:\n",
    "                shares[tech][\"new\"] = share[\"old\"] * scaling_factor_coal\n",
    "                surplus = share[\"old\"] - share[\"new\"]\n",
    "\n",
    "        \n",
    "        for tech, share in shares.items():\n",
    "            if \"coal\" not in tech:\n",
    "                shares[tech][\"new\"] = share[\"old\"] + (surplus / (len(shares) - 1))\n",
    "                \n",
    "        for exc in ws.technosphere(\n",
    "            ds,\n",
    "            ws.contains(\"name\", \"electricity production\")             \n",
    "        ):\n",
    "            if exc[\"name\"] in shares:\n",
    "                exc[\"amount\"] = shares[exc[\"name\"]][\"new\"]\n",
    "\n",
    "        modifications.extend(\n",
    "            [\n",
    "                ds[\"name\"][-30:], ds[\"location\"], tech[-30:], round(v[\"old\"], 3), round(v[\"new\"], 3), round(sum(x[\"new\"] for x in shares.values()), 2)\n",
    "            ] for tech, v in shares.items()\n",
    "        )\n",
    "\n",
    "    table = PrettyTable([\"Name\", \"Loc\", \"Tech\", \"Old share\", \"New share\", \"Sum shares\"])\n",
    "    table.add_rows(modifications)\n",
    "    print(table)\n",
    "\n",
    "    ################ NG POWER PLANTS #####################\n",
    "\n",
    "    generation_filters = [\n",
    "        ws.contains('name', 'electricity production'),\n",
    "        ws.contains(\"name\", \"natural gas\"),\n",
    "        ws.equals('unit', 'kilowatt hour'),\n",
    "    ]\n",
    "\n",
    "    fuel_independent_cooling = ws.doesnt_contain_any('name', (\n",
    "        'water, decarbonised', ))\n",
    "\n",
    "    fuel_independent = ws.doesnt_contain_any('name', (\n",
    "        'Methane, fossil', 'Sulfur dioxide', 'Carbon monoxide, fossil',\n",
    "        'Nitrogen oxides', 'Dinitrogen monoxide', 'Particulates'\n",
    "    ))\n",
    "\n",
    "    for ds in ws.get_many(db, *generation_filters):\n",
    "\n",
    "        wurst.transformations.change_exchanges_by_constant_factor(\n",
    "            ds,\n",
    "            scaling_factor_coal_ng,  # Or whatever from input data\n",
    "            [fuel_independent_cooling],\n",
    "            [fuel_independent]\n",
    "        )\n",
    "    \n",
    "    return db"
   ]
  },
  {
   "cell_type": "markdown",
   "id": "29fba6e3-9331-404d-94f5-ec1048707c5e",
   "metadata": {},
   "source": [
    "### 7. Running the script:\n",
    "\n",
    "Run the three transformation functions for 2035 and 2050"
   ]
  },
  {
   "cell_type": "code",
   "execution_count": null,
   "id": "801fcff4-cd5c-49d1-bc41-cdc8493ec028",
   "metadata": {},
   "outputs": [],
   "source": [
    "db_2035, db_2050 = load_db(), load_db()"
   ]
  },
  {
   "cell_type": "code",
   "execution_count": null,
   "id": "81a5cd5f-76bb-43ee-a63d-c6490db758f9",
   "metadata": {
    "tags": []
   },
   "outputs": [],
   "source": [
    "db_2035 = modify_module_efficiency(db_2035, 2035)\n",
    "db_2050 = modify_module_efficiency(db_2050, 2050)\n",
    "\n",
    "db_2035 = modify_pv_lifetime(db_2035, 25, 30)\n",
    "db_2050 = modify_pv_lifetime(db_2050, 25, 40)\n",
    "\n",
    "db_2035 = modify_al_electricity_mix(db_2035, .5, .95)\n",
    "db_2050 = modify_al_electricity_mix(db_2050, 0, .9)"
   ]
  },
  {
   "cell_type": "markdown",
   "id": "d4183539",
   "metadata": {},
   "source": [
    "### 8. Exporting Databases:"
   ]
  },
  {
   "cell_type": "markdown",
   "id": "059ea95e-ff16-43cb-af3f-a4eb8e198ffb",
   "metadata": {},
   "source": [
    "Here, we use `wurst`'s export capability. \n",
    "In this case, we export the modified databases back to the `brightway` project."
   ]
  },
  {
   "cell_type": "code",
   "execution_count": null,
   "id": "4e3fe55a-a68c-4a70-8d03-7a4fbab83274",
   "metadata": {
    "tags": []
   },
   "outputs": [],
   "source": [
    "# let's delete these databases if they already exist in our project.\n",
    "\n",
    "if \"PV 2035\" in bw2data.databases:\n",
    "    del bw2data.databases[\"PV 2035\"]\n",
    "\n",
    "if \"PV 2050\" in bw2data.databases:\n",
    "    del bw2data.databases[\"PV 2050\"]"
   ]
  },
  {
   "cell_type": "code",
   "execution_count": null,
   "id": "69b6f900-b405-4708-aa5e-4fb2b3b4b63b",
   "metadata": {
    "tags": []
   },
   "outputs": [],
   "source": [
    "wurst.write_brightway2_database(db_2035, \"PV 2035\")\n",
    "wurst.write_brightway2_database(db_2050, \"PV 2050\")"
   ]
  },
  {
   "cell_type": "markdown",
   "id": "7a5784ac-3084-4cdb-a1c8-081bf08abfb2",
   "metadata": {},
   "source": [
    "### 9. Comparing results:"
   ]
  },
  {
   "cell_type": "code",
   "execution_count": null,
   "id": "4cef9ec0-9a38-483b-a4de-2a6b6e078c03",
   "metadata": {},
   "outputs": [],
   "source": [
    "FU = [\n",
    "    act for db in [\n",
    "        \"ecoinvent-3.10-cutoff\", \"PV 2035\", \"PV 2050\"\n",
    "    ] for act in bw2data.Database(db) if \"electricity production\" in act[\"name\"]\n",
    "    and \"photovoltaic\" in act[\"name\"] and act[\"unit\"] == \"kilowatt hour\" \n",
    "    and act[\"location\"] == \"CH\"\n",
    "]"
   ]
  },
  {
   "cell_type": "code",
   "execution_count": null,
   "id": "3d49c59a-4195-4c26-b7fa-4ad02e51110f",
   "metadata": {},
   "outputs": [],
   "source": [
    "len(FU)"
   ]
  },
  {
   "cell_type": "code",
   "execution_count": null,
   "id": "47a56177-91fa-4d50-8d30-2c9bd8ce8c4c",
   "metadata": {},
   "outputs": [],
   "source": [
    "method = ('IPCC 2021', 'climate change: fossil', 'global warming potential (GWP100)')"
   ]
  },
  {
   "cell_type": "markdown",
   "id": "c35ceca0-8487-4fc9-967b-62cc9444fe3e",
   "metadata": {},
   "source": [
    "Let's calculate this."
   ]
  },
  {
   "cell_type": "code",
   "execution_count": null,
   "id": "865f1854-c431-45dc-8308-8e7753d9fb22",
   "metadata": {},
   "outputs": [],
   "source": [
    "import bw2calc\n",
    "import numpy as np\n",
    "from bw2calc.errors import OutsideTechnosphere\n",
    "\n",
    "# we create an array to store our results\n",
    "results = []\n",
    "\n",
    "# we initialize the LCA matrices\n",
    "lca = bw2calc.LCA({FU[0]: 1}, method)\n",
    "lca.lci()\n",
    "lca.lcia()\n",
    "\n",
    "for i, fu in enumerate(FU):\n",
    "    try:\n",
    "        lca.lci({fu.id: 1})\n",
    "        lca.lcia()\n",
    "    except OutsideTechnosphere:\n",
    "        lca = bw2calc.LCA({fu: 1}, method)\n",
    "        lca.lci()\n",
    "        lca.lcia()\n",
    "        \n",
    "    results.append(lca.score)"
   ]
  },
  {
   "cell_type": "code",
   "execution_count": null,
   "id": "06e6ed7d-7cc5-4f67-847c-7c915eb629cd",
   "metadata": {},
   "outputs": [],
   "source": [
    "import pandas as pd\n",
    "df = pd.DataFrame(\n",
    "    zip(\n",
    "        [a[\"name\"] for a in FU],\n",
    "        [a[\"database\"] for a in FU],\n",
    "        results\n",
    "    ),\n",
    "    columns=[\"name\", \"year\", \"GWP\"]\n",
    ")"
   ]
  },
  {
   "cell_type": "code",
   "execution_count": null,
   "id": "00025806-6278-43c3-8820-0eb955b1cf20",
   "metadata": {
    "tags": []
   },
   "outputs": [],
   "source": [
    "df.head()"
   ]
  },
  {
   "cell_type": "code",
   "execution_count": null,
   "id": "c38eba03-d026-4e49-a25f-7e9e4583722e",
   "metadata": {},
   "outputs": [],
   "source": [
    "df = df.replace(\"ecoinvent-3.10-cutoff\", 2020)\n",
    "df = df.replace(\"PV 2035\", 2035)\n",
    "df = df.replace(\"PV 2050\", 2050)\n",
    "df[\"year\"] = df[\"year\"].astype(\"str\")"
   ]
  },
  {
   "cell_type": "code",
   "execution_count": null,
   "id": "9eb7fe3e-bcaf-4dad-9f26-ff206540ab30",
   "metadata": {},
   "outputs": [],
   "source": [
    "\n",
    "\n",
    "# plot with seaborn barplot\n",
    "sns.barplot(data=df, x='name', y='GWP', hue='year')\n",
    "\n",
    "plt.xticks([])\n",
    "plt.ylabel(\"kg CO$_2$-eq./kWh\")"
   ]
  },
  {
   "cell_type": "markdown",
   "id": "503ee7f2-ee6d-490d-b136-288d72319b14",
   "metadata": {},
   "source": [
    "### 10. Bonus: can you show the respective tranformation contributions?"
   ]
  },
  {
   "cell_type": "code",
   "execution_count": null,
   "id": "4d5bcac7-d85e-4d71-bf4f-37dba4b721cd",
   "metadata": {},
   "outputs": [],
   "source": [
    "db_2050_1 = load_db()\n",
    "db_2050_1 = modify_module_efficiency(db_2050_1, 2050)\n",
    "\n",
    "if \"PV 2050 - eff\" in bw2data.databases:\n",
    "    del bw2data.databases[\"PV 2050 - eff\"]\n",
    "    \n",
    "wurst.write_brightway2_database(db_2050_1, \"PV 2050 - eff\")\n",
    "\n",
    "db_2050_2 = load_db()\n",
    "db_2050_2 = modify_module_efficiency(db_2050_2, 2050)\n",
    "db_2050_2 = modify_pv_lifetime(db_2050_2, 25, 40)\n",
    "\n",
    "if \"PV 2050 - eff - lifetime\" in bw2data.databases:\n",
    "    del bw2data.databases[\"PV 2050 - eff - lifetime\"]\n",
    "    \n",
    "wurst.write_brightway2_database(db_2050_2, \"PV 2050 - eff - lifetime\")"
   ]
  },
  {
   "cell_type": "code",
   "execution_count": null,
   "id": "263b2194-b266-4150-92ae-486c7affdf0d",
   "metadata": {},
   "outputs": [],
   "source": [
    "FU_contributions = [\n",
    "    act for db in [\n",
    "        \"ecoinvent-3.10-cutoff\", \"PV 2050 - eff\", \"PV 2050 - eff - lifetime\", \"PV 2050\"\n",
    "    ] for act in bw2data.Database(db) if \"electricity production\" in act[\"name\"]\n",
    "    and \"photovoltaic\" in act[\"name\"] and act[\"unit\"] == \"kilowatt hour\" \n",
    "    and act[\"location\"] == \"CH\"\n",
    "]"
   ]
  },
  {
   "cell_type": "code",
   "execution_count": null,
   "id": "8e3367d4-c31e-4f39-9f5c-b103a9fde31b",
   "metadata": {},
   "outputs": [],
   "source": [
    "import bw2calc\n",
    "import numpy as np\n",
    "from bw2calc.errors import OutsideTechnosphere\n",
    "\n",
    "# we create an array to store our results\n",
    "results = []\n",
    "\n",
    "# we initialize the LCA matrices\n",
    "lca = bw2calc.LCA({FU_contributions[0]: 1}, method)\n",
    "lca.lci()\n",
    "lca.lcia()\n",
    "\n",
    "for i, fu in enumerate(FU_contributions):\n",
    "    try:\n",
    "        lca.lci({fu.id: 1})\n",
    "        lca.lcia()\n",
    "    except OutsideTechnosphere:\n",
    "        lca = bw2calc.LCA({fu: 1}, method)\n",
    "        lca.lci()\n",
    "        lca.lcia()\n",
    "        \n",
    "    results.append(lca.score)"
   ]
  },
  {
   "cell_type": "code",
   "execution_count": null,
   "id": "f7edd26a-b8f6-4f12-9d1f-88f17858b70c",
   "metadata": {},
   "outputs": [],
   "source": [
    "import pandas as pd\n",
    "df = pd.DataFrame(\n",
    "    zip(\n",
    "        [a[\"name\"] for a in FU_storage],\n",
    "        [a[\"database\"] for a in FU_storage],\n",
    "        results\n",
    "    ),\n",
    "    columns=[\"name\", \"year\", \"GWP\"]\n",
    ")"
   ]
  },
  {
   "cell_type": "code",
   "execution_count": null,
   "id": "49b0c26e-739c-4df5-9ff8-9e0499d8302d",
   "metadata": {},
   "outputs": [],
   "source": [
    "df = df.replace(\"ecoinvent-3.10-cutoff\", 2020)\n",
    "df = df.replace(\"PV 2050 - eff\", \"2050 -- 1 eff only\")\n",
    "df = df.replace(\"PV 2050 - eff - lifetime\", \"2050 -- 2 eff + lifetime ext.\")\n",
    "df = df.replace(\"PV 2050\", \"2050 -- 3 eff + lifetime ext. + coal phase out\")\n",
    "df[\"year\"] = df[\"year\"].astype(\"str\")"
   ]
  },
  {
   "cell_type": "code",
   "execution_count": null,
   "id": "485d0694-7407-4986-942e-1650dd76b511",
   "metadata": {},
   "outputs": [],
   "source": [
    "# plot with seaborn barplot\n",
    "sns.barplot(data=df, x='name', y='GWP', hue='year')\n",
    "plt.xticks([])\n",
    "plt.ylabel(\"kg CO$_2$-eq./kWh\")"
   ]
  },
  {
   "cell_type": "markdown",
   "id": "6d629aea-6716-4671-ab15-2a783185468a",
   "metadata": {},
   "source": [
    "### 11. Bonus 2: Home storage systems\n",
    "\n",
    "#### Exercise: Estimating Home Energy Storage Capacity\n",
    "\n",
    "#### Background:\n",
    "You want to purchase a solar photovoltaic system for the roof of your residence. \n",
    "This system converts sunlight into electricity that powers your home. \n",
    "On days when the system produces more electricity than your home consumes, \n",
    "the excess energy can be stored in batteries for use during nighttime or on days when the sun isn't shining.\n",
    "\n",
    "#### Objective:\n",
    "\n",
    "1. Estimate the solar PV installation and storage capacities required for your home energy storage system, considering only \n",
    "the excess solar production that isn't consumed directly by the household during daylight time.\n",
    "2. Add the storage capacity in photovoltaic electricity production datasets\n",
    "3. Estimate the increase in carbon footprint resulting from home energy storage.\n",
    "\n",
    "Given:\n",
    "\n",
    "1. On average, your location in Switzerland receives 5 hours of effective sunlight per day (i.e., full load).\n",
    "2. Your household's electricity consumption is 10 kWh during daylight and 5 kWh during nighttime.\n",
    "3. You want the storage system to provide enough for the nighttime.\n",
    "4. Batteries typically have a recommended Depth of Discharge (DoD) of 90%, meaning only 90% of their total capacity should be used to ensure a longer lifespan.\n",
    "Energy storage systems have a round-trip efficiency of 80%. This accounts for energy losses during the charging and discharging processes. Also,\n",
    "we assume a 3,000 cycles lifetime for the battery cells (where 1 day = 1 cycle), while the Balance of Plant can outlast the PV installation.\n",
    "Finally, 30% of the battery system mass is the Balance of Plant."
   ]
  },
  {
   "cell_type": "code",
   "execution_count": null,
   "id": "a7094b3d-50c1-4d4d-a9f6-edc23c0b21ec",
   "metadata": {},
   "outputs": [],
   "source": [
    "# Given values for total daily consumption\n",
    "total_daily_consumption = 15  # kWh (10 kWh daytime + 5 kWh evening)\n",
    "average_sunlight_hours = 5 # hours\n",
    "\n",
    "# Calculate the required solar installation capacity for total daily consumption\n",
    "required_total_solar_capacity = total_daily_consumption / average_sunlight_hours\n",
    "required_total_solar_capacity # kWp"
   ]
  },
  {
   "cell_type": "code",
   "execution_count": null,
   "id": "f9b25ee9-08c0-4f70-9b56-e1e789646ec6",
   "metadata": {},
   "outputs": [],
   "source": [
    "# storage capacity\n",
    "net_storage_capacity = 5 # kWh\n",
    "net_storage_capacity /= .9 # Depth of Discharge\n",
    "net_storage_capacity /= .8 # 80% round-trip efficiency\n",
    "\n",
    "round(net_storage_capacity)"
   ]
  },
  {
   "cell_type": "code",
   "execution_count": null,
   "id": "f94c0410-f9e9-4d12-97b8-6e07eb33ea23",
   "metadata": {},
   "outputs": [],
   "source": [
    "db = load_db()"
   ]
  },
  {
   "cell_type": "code",
   "execution_count": null,
   "id": "feff6ed1-0184-4e4f-b772-1188c30e8a8f",
   "metadata": {},
   "outputs": [],
   "source": [
    "import wurst.searching as ws\n",
    "# let's find battery cell LCIs\n",
    "for ds in ws.get_many(\n",
    "    db,\n",
    "    ws.contains(\"name\", \"battery cell, Li-ion\")\n",
    "):\n",
    "    print(ds[\"name\"])"
   ]
  },
  {
   "cell_type": "code",
   "execution_count": null,
   "id": "7547f4a7-2203-4bcb-89fd-4bbb6a8924a9",
   "metadata": {},
   "outputs": [],
   "source": [
    "cells = ws.get_one(db, ws.contains(\"name\", \"market for battery cell, Li-ion, NMC811\"))\n",
    "BoP = ws.get_one(db, ws.contains(\"name\", \"battery management system production\"))"
   ]
  },
  {
   "cell_type": "code",
   "execution_count": null,
   "id": "fc8d0b13-031a-4970-a706-a1ab11b61add",
   "metadata": {},
   "outputs": [],
   "source": [
    "# battery sizing\n",
    "# we assume 1 kg NMC cell = 0.2 kWh storage\n",
    "# and 30% of the system mass is the Balance of Plant\n",
    "cell_mass = round(net_storage_capacity) / 0.2\n",
    "BoP_mass = .3 * cell_mass / .7"
   ]
  },
  {
   "cell_type": "code",
   "execution_count": null,
   "id": "986373fd-7611-4382-b85d-4c8b30dd7684",
   "metadata": {},
   "outputs": [],
   "source": [
    "cell_mass"
   ]
  },
  {
   "cell_type": "code",
   "execution_count": null,
   "id": "212edaf5-21ca-427c-9f5f-8910abfac791",
   "metadata": {},
   "outputs": [],
   "source": [
    "BoP_mass"
   ]
  },
  {
   "cell_type": "code",
   "execution_count": null,
   "id": "b60117fe-43bb-49d6-917e-b85235ddcbf8",
   "metadata": {},
   "outputs": [],
   "source": [
    "lifetime_replacements = (25 * 365) / 3000 # 25 years lifetime for the PV, 3000 cycles for the battery\n",
    "lifetime_replacements"
   ]
  },
  {
   "cell_type": "code",
   "execution_count": null,
   "id": "1eccc150-fe33-4ca7-9b1d-43c833a8e54a",
   "metadata": {},
   "outputs": [],
   "source": [
    "for ds in ws.get_many(\n",
    "    db,\n",
    "    ws.contains(\"name\", \"electricity production, photovoltaic\"),\n",
    "    ws.contains(\"name\", \"3kWp\"),\n",
    "    ws.equals(\"location\", \"CH\"),\n",
    "    ws.equals(\"unit\", \"kilowatt hour\")\n",
    "):\n",
    "    for exc in ws.technosphere(ds, ws.equals(\"unit\", \"unit\"), ws.contains(\"name\", \"photovoltaic\")):\n",
    "        production = 1 / exc[\"amount\"] #kWh/lifetime\n",
    "    ds[\"exchanges\"].extend(\n",
    "        [\n",
    "            {\"name\": cells[\"name\"], \"product\": cells[\"reference product\"], \"location\": cells[\"location\"], \"unit\": cells[\"unit\"], \"amount\": cell_mass * lifetime_replacements / production, \"type\": \"technosphere\"},\n",
    "            {\"name\": BoP[\"name\"], \"product\": BoP[\"reference product\"], \"location\": BoP[\"location\"], \"unit\": BoP[\"unit\"], \"amount\": BoP_mass / production, \"type\": \"technosphere\"},\n",
    "        ]\n",
    "        \n",
    "    )"
   ]
  },
  {
   "cell_type": "code",
   "execution_count": null,
   "id": "50b975b5-dcdd-42fe-8b2f-e68942f94db5",
   "metadata": {},
   "outputs": [],
   "source": [
    "if \"PV + storage\" in bw2data.databases:\n",
    "    del bw2data.databases[\"PV + storage\"]\n",
    "wurst.write_brightway2_database(db, \"PV + storage\")"
   ]
  },
  {
   "cell_type": "code",
   "execution_count": null,
   "id": "68cf1993-577a-4d16-8321-4d0a12a6a874",
   "metadata": {},
   "outputs": [],
   "source": [
    "FU_storage = [\n",
    "    act for db in [\n",
    "        \"ecoinvent-3.10-cutoff\", \"PV + storage\", \n",
    "    ] for act in bw2data.Database(db) if \"electricity production\" in act[\"name\"]\n",
    "    and \"photovoltaic\" in act[\"name\"] and act[\"unit\"] == \"kilowatt hour\" \n",
    "    and act[\"location\"] == \"CH\" and \"3kWp\" in act[\"name\"]\n",
    "]"
   ]
  },
  {
   "cell_type": "code",
   "execution_count": null,
   "id": "435e1b89-688d-4739-8ca6-dd1195327ada",
   "metadata": {},
   "outputs": [],
   "source": [
    "import bw2calc\n",
    "import numpy as np\n",
    "from bw2calc.errors import OutsideTechnosphere\n",
    "\n",
    "# we create an array to store our results\n",
    "results = []\n",
    "\n",
    "# we initialize the LCA matrices\n",
    "lca = bw2calc.LCA({FU_storage[0]: 1}, method)\n",
    "lca.lci()\n",
    "lca.lcia()\n",
    "\n",
    "for i, fu in enumerate(FU_storage):\n",
    "    try:\n",
    "        lca.lci({fu.id: 1})\n",
    "        lca.lcia()\n",
    "    except OutsideTechnosphere:\n",
    "        lca = bw2calc.LCA({fu: 1}, method)\n",
    "        lca.lci()\n",
    "        lca.lcia()\n",
    "        \n",
    "    results.append(lca.score)"
   ]
  },
  {
   "cell_type": "code",
   "execution_count": null,
   "id": "9071896c-7b66-418f-9e82-b54a03f0872b",
   "metadata": {},
   "outputs": [],
   "source": [
    "import pandas as pd\n",
    "df = pd.DataFrame(\n",
    "    zip(\n",
    "        [a[\"name\"] for a in FU_storage],\n",
    "        [a[\"database\"] for a in FU_storage],\n",
    "        results\n",
    "    ),\n",
    "    columns=[\"name\", \"storage\", \"GWP\"]\n",
    ")"
   ]
  },
  {
   "cell_type": "code",
   "execution_count": null,
   "id": "06f55e3d-514d-4603-b895-ff46c97187a0",
   "metadata": {},
   "outputs": [],
   "source": [
    "df = df.replace(\"ecoinvent-3.10-cutoff\", \"No storage\")"
   ]
  },
  {
   "cell_type": "code",
   "execution_count": null,
   "id": "51904ede-8a7b-4eca-b614-20218d4b8dc7",
   "metadata": {},
   "outputs": [],
   "source": [
    "# plot with seaborn barplot\n",
    "sns.barplot(data=df, x='name', y='GWP', hue='storage')\n",
    "plt.xticks([])\n",
    "plt.ylabel(\"kg CO$_2$-eq./kWh\")"
   ]
  },
  {
   "cell_type": "markdown",
   "id": "3f1e4eec-4de2-4b78-9291-5903d77cc488",
   "metadata": {},
   "source": [
    "### 12. New silicon wafer market"
   ]
  },
  {
   "cell_type": "markdown",
   "id": "728471be-707e-4719-b7e9-a2afb3141a18",
   "metadata": {},
   "source": [
    "Finally, the European Energy Agency wants us to consider the current landscape of silicon wafer suppliers and project an increase in supply from Germany (up to half of the supply globally).\n",
    "\n",
    "The market for silicon wafers in ecoinvent is indeed not up-to-date.\n",
    "We want to use current statistics to update it."
   ]
  },
  {
   "cell_type": "markdown",
   "id": "26aa9e3b-932b-4ee3-80c0-b12a2eed696b",
   "metadata": {},
   "source": [
    "![title](wafer_shares.png)"
   ]
  },
  {
   "cell_type": "markdown",
   "id": "fa95bcf8-992e-4761-b0b5-18e063f99541",
   "metadata": {},
   "source": [
    "From the statistics above, we derive the following shares by geography:"
   ]
  },
  {
   "cell_type": "code",
   "execution_count": null,
   "id": "9e6ee3cb-f323-40e9-9092-34b72970a4ad",
   "metadata": {},
   "outputs": [],
   "source": [
    "# Silicon wafer market shares:\n",
    "shares_current = {\n",
    "    \"CN\": 0.32,\n",
    "    \"JP\": 0.25,\n",
    "    \"TW\": 0.17,\n",
    "    \"KR\": 0.13,\n",
    "    \"DE\": 0.13,\n",
    "}"
   ]
  },
  {
   "cell_type": "code",
   "execution_count": null,
   "id": "b3906d8c-1bfa-4713-92c8-e0ca084796b7",
   "metadata": {},
   "outputs": [],
   "source": [
    "import wurst.transformations as wt"
   ]
  },
  {
   "cell_type": "code",
   "execution_count": null,
   "id": "8c8d548d-e316-48e8-8616-0536c6e1a429",
   "metadata": {},
   "outputs": [],
   "source": [
    "db = load_db()"
   ]
  },
  {
   "cell_type": "markdown",
   "id": "fe696765-995a-4cb2-bb85-e87a95d69fec",
   "metadata": {},
   "source": [
    "Let's search for the silicon wafer production processes and related datasets"
   ]
  },
  {
   "cell_type": "code",
   "execution_count": null,
   "id": "280e78b7-f231-4517-bf3e-97a1edbd19c1",
   "metadata": {},
   "outputs": [],
   "source": [
    "for ds in ws.get_many(\n",
    "    db,\n",
    "    ws.equals(\"name\", \"single-Si wafer production, photovoltaic\")\n",
    "):\n",
    "    print(ds[\"name\"], ds[\"location\"])"
   ]
  },
  {
   "cell_type": "markdown",
   "id": "fef71b76-a50d-4ac3-987f-91225b2fc9d4",
   "metadata": {},
   "source": [
    "Let's use the European dataset (`RER`) as a proxy to build the activities for the other countries."
   ]
  },
  {
   "cell_type": "markdown",
   "id": "b8846421-b1a1-4d2e-bb6d-2d2ea83c7cab",
   "metadata": {},
   "source": [
    "Here, we use two `wurst` functions:\n",
    "* `copy_to_new_location()`: copy an existing dataset and change its location,\n",
    "* `relink_technosphere_exchanges`: update the technosphere exchanges to geographically more appropriate suppliers."
   ]
  },
  {
   "cell_type": "code",
   "execution_count": null,
   "id": "bb602225-b39e-4c98-9e95-6376bbf9f204",
   "metadata": {},
   "outputs": [],
   "source": [
    "# meaning activities in the silicon wafer supply chain\n",
    "proxy_datasets = [\n",
    "    \"silicon production, single crystal, Czochralski process, photovoltaics\",\n",
    "    \"market for silicon, single crystal, Czochralski process, photovoltaics\",\n",
    "    \"single-Si wafer production, photovoltaic\",\n",
    "]\n",
    "\n",
    "for proxy_dataset in proxy_datasets:\n",
    "    proxy_ds = ws.get_one(\n",
    "        db,\n",
    "        ws.equals(\"name\", proxy_dataset),\n",
    "        ws.equals(\"location\", \"RER\")\n",
    "    )\n",
    "\n",
    "    for country in shares_current:\n",
    "        new_ds = wt.copy_to_new_location(\n",
    "            proxy_ds, country\n",
    "        )\n",
    "    \n",
    "        for exc in ws.technosphere(\n",
    "            new_ds,\n",
    "            ws.contains(\"name\", \"market group for\")\n",
    "        ):\n",
    "            exc[\"name\"] = exc[\"name\"].replace(\"market group for\", \"market for\")\n",
    "            \n",
    "        try:\n",
    "            wt.relink_technosphere_exchanges(\n",
    "                new_ds,\n",
    "                db\n",
    "            )\n",
    "        except:\n",
    "            pass\n",
    "        print(new_ds[\"name\"], new_ds[\"location\"])\n",
    "        db.append(new_ds)"
   ]
  },
  {
   "cell_type": "markdown",
   "id": "510f4609-c86b-4121-a514-067deb2531a7",
   "metadata": {},
   "source": [
    "And we also need to modify `market for single-Si wafer, photovoltaic` to include these new shares."
   ]
  },
  {
   "cell_type": "code",
   "execution_count": null,
   "id": "3ccc3862-2c0c-4a9b-9e78-7e883c0e1b92",
   "metadata": {},
   "outputs": [],
   "source": [
    "wafer_market = ws.get_one(\n",
    "    db,\n",
    "    ws.equals(\"name\", \"market for single-Si wafer, photovoltaic\"),\n",
    "    ws.equals(\"location\", \"GLO\")\n",
    ")"
   ]
  },
  {
   "cell_type": "code",
   "execution_count": null,
   "id": "c1787c59-5db8-4d42-a032-a8ba11738218",
   "metadata": {},
   "outputs": [],
   "source": [
    "import copy\n",
    "for exc in ws.technosphere(\n",
    "    wafer_market,\n",
    "    ws.equals(\"name\", \"single-Si wafer production, photovoltaic\")\n",
    "):\n",
    "    exc[\"amount\"] = 0\n",
    "    proxy_exc=copy.deepcopy(exc)"
   ]
  },
  {
   "cell_type": "code",
   "execution_count": null,
   "id": "37eeab79-4a9f-4ad9-b623-bb227fafcf1b",
   "metadata": {},
   "outputs": [],
   "source": [
    "for country, share in shares_current.items():\n",
    "    new_exc = copy.deepcopy(proxy_exc)\n",
    "    new_exc[\"location\"] = country\n",
    "    new_exc[\"amount\"] = share\n",
    "    \n",
    "    wafer_market[\"exchanges\"].append(\n",
    "       new_exc \n",
    "    )"
   ]
  },
  {
   "cell_type": "code",
   "execution_count": null,
   "id": "54384820-7a37-4191-8b17-f0a1191a34fa",
   "metadata": {},
   "outputs": [],
   "source": [
    "for exc in ws.technosphere(\n",
    "    wafer_market,\n",
    "    ws.equals(\"name\", \"single-Si wafer production, photovoltaic\")\n",
    "):\n",
    "    print(exc[\"name\"], exc[\"location\"], exc[\"amount\"])"
   ]
  },
  {
   "cell_type": "code",
   "execution_count": null,
   "id": "fa790f76-86f7-4b96-82a5-c88b32f6845a",
   "metadata": {},
   "outputs": [],
   "source": [
    "for ds in ws.get_many(\n",
    "    db,\n",
    "    ws.equals(\"name\", \"single-Si wafer production, photovoltaic\"),\n",
    "    ws.equals(\"location\", \"CN\")\n",
    "):\n",
    "    for exc in ds[\"exchanges\"]:\n",
    "        print(exc[\"name\"], exc[\"amount\"], exc.get(\"location\"))\n",
    "    print()"
   ]
  },
  {
   "cell_type": "code",
   "execution_count": null,
   "id": "0ed2b366-4b60-4512-a942-74c23aa12345",
   "metadata": {},
   "outputs": [],
   "source": [
    "for ds in ws.get_many(\n",
    "    db,\n",
    "    ws.equals(\"name\", \"market for silicon, single crystal, Czochralski process, photovoltaics\"),\n",
    "    ws.equals(\"location\", \"CN\")\n",
    "):\n",
    "    for exc in ds[\"exchanges\"]:\n",
    "        print(exc[\"name\"], exc[\"amount\"], exc.get(\"location\"))\n",
    "    print()"
   ]
  },
  {
   "cell_type": "code",
   "execution_count": null,
   "id": "733693f1-6fc7-4939-8e8b-e38478121a28",
   "metadata": {},
   "outputs": [],
   "source": [
    "for ds in ws.get_many(\n",
    "    db,\n",
    "    ws.equals(\"name\", \"silicon production, single crystal, Czochralski process, photovoltaics\"),\n",
    "    ws.equals(\"location\", \"CN\")\n",
    "):\n",
    "    for exc in ds[\"exchanges\"]:\n",
    "        print(exc[\"name\"], exc[\"amount\"], exc.get(\"location\"))\n",
    "    print()"
   ]
  },
  {
   "cell_type": "code",
   "execution_count": null,
   "id": "6a73fc64-8cf5-4db1-9f46-cb0b3fe20aa2",
   "metadata": {},
   "outputs": [],
   "source": [
    "if \"wafer\" in bw2data.databases:\n",
    "    del bw2data.databases[\"wafer\"]\n",
    "wurst.write_brightway2_database(db, \"wafer\")"
   ]
  },
  {
   "cell_type": "code",
   "execution_count": null,
   "id": "f7cf92a6-f967-4071-8542-f6ee780c2a37",
   "metadata": {},
   "outputs": [],
   "source": [
    "FU_wafer = [\n",
    "    act for db in [\n",
    "        \"ecoinvent-3.10-cutoff\", \"wafer\", \n",
    "    ] for act in bw2data.Database(db) if \"electricity production\" in act[\"name\"]\n",
    "    and \"photovoltaic\" in act[\"name\"] and act[\"unit\"] == \"kilowatt hour\" \n",
    "    and act[\"location\"] == \"CH\" and \"3kWp\" in act[\"name\"]\n",
    "    and \"single-Si\" in act[\"name\"]\n",
    "]"
   ]
  },
  {
   "cell_type": "code",
   "execution_count": null,
   "id": "ed48b9cd-85c3-4eeb-891a-13c23259b56b",
   "metadata": {},
   "outputs": [],
   "source": [
    "len(FU_wafer)"
   ]
  },
  {
   "cell_type": "code",
   "execution_count": null,
   "id": "bcf1cbd2-2549-4e94-a0db-b492f0280964",
   "metadata": {},
   "outputs": [],
   "source": [
    "for fu in FU_wafer:\n",
    "    print(fu[\"name\"])"
   ]
  },
  {
   "cell_type": "code",
   "execution_count": null,
   "id": "985d5def-3807-4c10-a7ab-d46cc180cec1",
   "metadata": {},
   "outputs": [],
   "source": [
    "import bw2calc\n",
    "import numpy as np\n",
    "from bw2calc.errors import OutsideTechnosphere\n",
    "\n",
    "# we create an array to store our results\n",
    "results = []\n",
    "\n",
    "# we initialize the LCA matrices\n",
    "lca = bw2calc.LCA({FU_wafer[0]: 1}, method)\n",
    "lca.lci()\n",
    "lca.lcia()\n",
    "\n",
    "for i, fu in enumerate(FU_wafer):\n",
    "    try:\n",
    "        lca.lci({fu.id: 1})\n",
    "        lca.lcia()\n",
    "    except OutsideTechnosphere:\n",
    "        lca = bw2calc.LCA({fu: 1}, method)\n",
    "        lca.lci()\n",
    "        lca.lcia()\n",
    "        \n",
    "    results.append(lca.score)"
   ]
  },
  {
   "cell_type": "code",
   "execution_count": null,
   "id": "147d5cd8-f188-4f16-b858-ff824e876ad0",
   "metadata": {},
   "outputs": [],
   "source": [
    "import pandas as pd\n",
    "df = pd.DataFrame(\n",
    "    zip(\n",
    "        [a[\"name\"] for a in FU_wafer],\n",
    "        [a[\"database\"] for a in FU_wafer],\n",
    "        results\n",
    "    ),\n",
    "    columns=[\"name\", \"storage\", \"GWP\"]\n",
    ")"
   ]
  },
  {
   "cell_type": "code",
   "execution_count": null,
   "id": "0a7979ff-8833-4c08-9797-99f476c43f3f",
   "metadata": {},
   "outputs": [],
   "source": [
    "df = df.replace(\"ecoinvent-3.10-cutoff\", \"Old wafer market\")\n",
    "df = df.replace(\"wafer\", \"New wafer market\")"
   ]
  },
  {
   "cell_type": "code",
   "execution_count": null,
   "id": "2443d3a2-d87a-4e27-a6fe-09feaae1d9bb",
   "metadata": {},
   "outputs": [],
   "source": [
    "# plot with seaborn barplot\n",
    "sns.barplot(data=df, x='name', y='GWP', hue='storage')\n",
    "plt.xticks([])\n",
    "plt.ylabel(\"kg CO$_2$-eq./kWh\")"
   ]
  },
  {
   "cell_type": "code",
   "execution_count": null,
   "id": "65e380b7-5604-4e82-9579-b8cebf89544f",
   "metadata": {},
   "outputs": [],
   "source": [
    "for ds in bw2data.Database(\"wafer\"):\n",
    "    if ds[\"name\"] == \"market for single-Si wafer, photovoltaic\":\n",
    "        for exc in ds.exchanges():\n",
    "            print(exc)"
   ]
  },
  {
   "cell_type": "code",
   "execution_count": null,
   "id": "e6c84a6d-f8f6-4a62-bf10-9a6868301e93",
   "metadata": {},
   "outputs": [],
   "source": [
    "for ds in bw2data.Database(\"ecoinvent-3.10-cutoff\"):\n",
    "    if ds[\"name\"] == \"market for single-Si wafer, photovoltaic\":\n",
    "        for exc in ds.exchanges():\n",
    "            print(exc)"
   ]
  },
  {
   "cell_type": "code",
   "execution_count": null,
   "id": "49f5a8e3-a3e0-47f5-9bb8-06ad5255131e",
   "metadata": {},
   "outputs": [],
   "source": []
  }
 ],
 "metadata": {
  "kernelspec": {
   "display_name": "Python 3 (ipykernel)",
   "language": "python",
   "name": "python3"
  },
  "language_info": {
   "codemirror_mode": {
    "name": "ipython",
    "version": 3
   },
   "file_extension": ".py",
   "mimetype": "text/x-python",
   "name": "python",
   "nbconvert_exporter": "python",
   "pygments_lexer": "ipython3",
   "version": "3.11.8"
  }
 },
 "nbformat": 4,
 "nbformat_minor": 5
}
